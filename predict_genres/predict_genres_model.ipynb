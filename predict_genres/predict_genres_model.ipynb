{
 "cells": [
  {
   "cell_type": "code",
   "execution_count": 1,
   "id": "initial_id",
   "metadata": {
    "collapsed": true,
    "ExecuteTime": {
     "end_time": "2024-06-12T16:40:47.151587Z",
     "start_time": "2024-06-12T16:40:45.779763Z"
    }
   },
   "outputs": [],
   "source": [
    "import tmdbsimple as tmdb\n",
    "import keys\n",
    "import requests\n",
    "import pandas as pd\n",
    "from sklearn.metrics import accuracy_score, classification_report\n",
    "from nltk.stem import WordNetLemmatizer, PorterStemmer\n",
    "from sklearn.preprocessing import MultiLabelBinarizer\n",
    "from sklearn.model_selection import train_test_split\n",
    "from sklearn.feature_extraction.text import TfidfVectorizer\n",
    "from sklearn.multioutput import MultiOutputClassifier\n",
    "from sklearn.linear_model import LogisticRegression\n",
    "import re"
   ]
  },
  {
   "cell_type": "code",
   "outputs": [],
   "source": [
    "tmdb.API_KEY = keys.second_moviedb_token\n",
    "tmdb.REQUESTS_TIMEOUT = 5\n",
    "tmdb.REQUESTS_SESSION = requests.Session()"
   ],
   "metadata": {
    "collapsed": false,
    "ExecuteTime": {
     "end_time": "2024-06-08T15:59:42.457770Z",
     "start_time": "2024-06-08T15:59:42.454721Z"
    }
   },
   "id": "959c6a2d9591f3eb",
   "execution_count": 2
  },
  {
   "cell_type": "code",
   "outputs": [],
   "source": [
    "movie = tmdb.Movies(11)\n",
    "response = movie.info()"
   ],
   "metadata": {
    "collapsed": false,
    "ExecuteTime": {
     "end_time": "2024-06-08T16:24:30.442868Z",
     "start_time": "2024-06-08T16:24:30.317157Z"
    }
   },
   "id": "117d2add7603499e",
   "execution_count": 81
  },
  {
   "cell_type": "code",
   "outputs": [
    {
     "data": {
      "text/plain": "'Star Wars Collection'"
     },
     "execution_count": 87,
     "metadata": {},
     "output_type": "execute_result"
    }
   ],
   "source": [
    "response['belongs_to_collection']['name']"
   ],
   "metadata": {
    "collapsed": false,
    "ExecuteTime": {
     "end_time": "2024-06-08T16:25:38.955908Z",
     "start_time": "2024-06-08T16:25:38.952043Z"
    }
   },
   "id": "58deeead4443f258",
   "execution_count": 87
  },
  {
   "cell_type": "code",
   "outputs": [],
   "source": [
    "films = {\n",
    "        'adult':[],\n",
    "        'backdrop_path':[],\n",
    "        'belongs_to_collection':[],\n",
    "        'budget':[],\n",
    "        'genres':[],\n",
    "        'homepage':[],\n",
    "        'id':[],\n",
    "        'imdb_id':[],\n",
    "        'origin_country':[],\n",
    "        'original_language':[],\n",
    "        'original_title':[],\n",
    "        'overview':[],\n",
    "        'popularity':[],\n",
    "        'poster_path':[],\n",
    "        'production_companies':[],\n",
    "        'production_countries':[],\n",
    "        'release_date':[],\n",
    "        'revenue':[],\n",
    "        'runtime':[],\n",
    "        'spoken_languages':[],\n",
    "        'status':[],\n",
    "        'tagline':[],\n",
    "        'title':[],\n",
    "        'video':[],\n",
    "        'vote_average':[],\n",
    "        'vote_count':[]\n",
    "        }"
   ],
   "metadata": {
    "collapsed": false,
    "ExecuteTime": {
     "end_time": "2024-06-08T16:33:37.862027Z",
     "start_time": "2024-06-08T16:33:37.857166Z"
    }
   },
   "id": "7568bdf04e1f2bcd",
   "execution_count": 107
  },
  {
   "cell_type": "code",
   "outputs": [],
   "source": [
    "def add_films_to_df(response):\n",
    "    films['adult'].append(response['adult'])\n",
    "    films['backdrop_path'].append(f'https://image.tmdb.org/t/p/w500{response[\"backdrop_path\"]}')\n",
    "    films['belongs_to_collection'].append(response['belongs_to_collection'])\n",
    "    films['budget'].append(response['budget'])\n",
    "    films['genres'].append([genre['name'] for genre in response['genres']])\n",
    "    films['homepage'].append(response['homepage'])\n",
    "    films['id'].append(response['id'])\n",
    "    films['imdb_id'].append(response['imdb_id'])\n",
    "    films['origin_country'].append(response['origin_country'])\n",
    "    films['original_language'].append(response['original_language'])\n",
    "    films['original_title'].append(response['original_title'])\n",
    "    films['overview'].append(response['overview'])\n",
    "    films['popularity'].append(response['popularity'])\n",
    "    films['poster_path'].append(f'https://image.tmdb.org/t/p/w500{response[\"poster_path\"]}')\n",
    "    films['production_companies'].append([company['name'] for company in response['production_companies']])\n",
    "    films['production_countries'].append([country['name'] for country in response['production_countries']])\n",
    "    films['release_date'].append(response['release_date'])\n",
    "    films['revenue'].append(response['revenue'])\n",
    "    films['runtime'].append(response['runtime'])\n",
    "    films['spoken_languages'].append([language['english_name'] for language in response['spoken_languages']])\n",
    "    films['status'].append(response['status'])\n",
    "    films['tagline'].append(response['tagline'])\n",
    "    films['title'].append(response['title'])\n",
    "    films['video'].append(response['video'])\n",
    "    films['vote_average'].append(response['vote_average'])\n",
    "    films['vote_count'].append(response['vote_count'])"
   ],
   "metadata": {
    "collapsed": false,
    "ExecuteTime": {
     "end_time": "2024-06-08T16:33:38.160923Z",
     "start_time": "2024-06-08T16:33:38.154413Z"
    }
   },
   "id": "17bbd4ffe447b44",
   "execution_count": 108
  },
  {
   "cell_type": "code",
   "outputs": [],
   "source": [
    "for i in range(13001800):\n",
    "    try:\n",
    "        movie = tmdb.Movies((1 + i))\n",
    "        response = movie.info()\n",
    "        add_films_to_df(response)\n",
    "    except Exception as e:\n",
    "        if e.response.status_code == 404:\n",
    "            # Handle the 404 error (movie not found) - can log or just pass\n",
    "            print(f\"Movie ID {1 + i} not found.\")\n",
    "        else:\n",
    "            # Raise the exception if it's not a 404 error\n",
    "            raise\n",
    "    "
   ],
   "metadata": {
    "collapsed": false
   },
   "id": "efb5b25b8b0d052c",
   "execution_count": null
  },
  {
   "cell_type": "code",
   "outputs": [],
   "source": [
    "df = pd.DataFrame(films)"
   ],
   "metadata": {
    "collapsed": false,
    "ExecuteTime": {
     "end_time": "2024-06-09T13:04:04.021873Z",
     "start_time": "2024-06-09T13:04:03.075545Z"
    }
   },
   "id": "184600c39027bf62",
   "execution_count": 130
  },
  {
   "cell_type": "code",
   "outputs": [
    {
     "data": {
      "text/plain": "            id   budget                        genres    imdb_id  \\\n0            2        0                   Drama|Crime  tt0094675   \n1            3        0                  Drama|Comedy  tt0092149   \n2            5  4000000                  Crime|Comedy  tt0113101   \n3            6        0         Action|Thriller|Crime  tt0107286   \n4            8    42000                   Documentary  tt0825671   \n...        ...      ...                           ...        ...   \n329039  469215        0  Documentary|History|TV Movie  tt5430190   \n329040  469216        0                           NaN        NaN   \n329041  469217        0                  Drama|Comedy        NaN   \n329042  469218        0                  Drama|Comedy  tt6391664   \n329043  469219        0                         Drama  tt6413160   \n\n       original_language                                original_title  \\\n0                     fi                                         Ariel   \n1                     fi                          Varjoja paratiisissa   \n2                     en                                    Four Rooms   \n3                     en                                Judgment Night   \n4                     en              Life in Loops (A Megacities RMX)   \n...                  ...                                           ...   \n329039                en                           The Day Hitler Died   \n329040                de  Mobb Deep - Life of the Infamous: The Videos   \n329041                en                                        #idiot   \n329042                en                              Conspiracy P.I.E   \n329043                en                                        Chance   \n\n                                                 overview popularity  \\\n0       Taisto Kasurinen is a Finnish coal miner whose...   0.823904   \n1       An episode in the life of Nikander, a garbage ...    0.47445   \n2       It's Ted the Bellhop's first night on the job....      1.698   \n3       While racing to a boxing match, Frank, Mike, J...    1.32287   \n4       Timo Novotny labels his new project an experim...   0.054716   \n...                                                   ...        ...   \n329039  The story of Hitler’s final hours told by peop...     0.0045   \n329040                                                NaN    0.00045   \n329041  In the modern day pursuit of fame and fortune,...    1.37217   \n329042  Director Levi A. Taylor invites you on a nosta...     0.0096   \n329043  A homeless man is given a second chance at lif...     0.0759   \n\n               production_companies      production_countries  ... runtime  \\\n0       Villealfa Filmproduction Oy                   Finland  ...    69.0   \n1       Villealfa Filmproduction Oy                   Finland  ...    76.0   \n2                     Miramax Films  United States of America  ...    98.0   \n3                Universal Pictures                     Japan  ...   110.0   \n4                           inLoops                   Austria  ...    80.0   \n...                             ...                       ...  ...     ...   \n329039              History Channel  United States of America  ...    46.0   \n329040     Sony Music Entertainmant  United States of America  ...     NaN   \n329041                         none                  Malaysia  ...    11.0   \n329042                         none  United States of America  ...    12.0   \n329043                         none  United States of America  ...    90.0   \n\n        spoken_languages    status  \\\n0                  suomi  Released   \n1                English  Released   \n2                English  Released   \n3                English  Released   \n4                English  Released   \n...                  ...       ...   \n329039           Deutsch  Released   \n329040           English  Released   \n329041           English  Released   \n329042           English  Released   \n329043           English  Released   \n\n                                                  tagline  \\\n0                                                     NaN   \n1                                                     NaN   \n2       Twelve outrageous guests. Four scandalous requ...   \n3          Don't move. Don't whisper. Don't even breathe.   \n4                                     A Megacities remix.   \n...                                                   ...   \n329039                                   April 30th, 1945   \n329040                                                NaN   \n329041                                                NaN   \n329042                                                NaN   \n329043                                                NaN   \n\n                                               title vote_average vote_count  \\\n0                                              Ariel          7.1         40   \n1                                Shadows in Paradise          7.0         32   \n2                                         Four Rooms          6.5        485   \n3                                     Judgment Night          6.5         69   \n4                   Life in Loops (A Megacities RMX)          6.4          4   \n...                                              ...          ...        ...   \n329039                           The Day Hitler Died          7.0          1   \n329040  Mobb Deep - Life of the Infamous: The Videos          9.0          1   \n329041                                        #idiot          0.0          0   \n329042                              Conspiracy P.I.E          0.0          0   \n329043                                        Chance          0.0          0   \n\n        production_companies_number  production_countries_number  \\\n0                                 2                            1   \n1                                 1                            1   \n2                                 2                            1   \n3                                 3                            2   \n4                                 1                            1   \n...                             ...                          ...   \n329039                            1                            1   \n329040                            1                            1   \n329041                            0                            1   \n329042                            0                            1   \n329043                            0                            1   \n\n        spoken_languages_number  \n0                             2  \n1                             3  \n2                             1  \n3                             1  \n4                             5  \n...                         ...  \n329039                        2  \n329040                        1  \n329041                        1  \n329042                        1  \n329043                        1  \n\n[329044 rows x 22 columns]",
      "text/html": "<div>\n<style scoped>\n    .dataframe tbody tr th:only-of-type {\n        vertical-align: middle;\n    }\n\n    .dataframe tbody tr th {\n        vertical-align: top;\n    }\n\n    .dataframe thead th {\n        text-align: right;\n    }\n</style>\n<table border=\"1\" class=\"dataframe\">\n  <thead>\n    <tr style=\"text-align: right;\">\n      <th></th>\n      <th>id</th>\n      <th>budget</th>\n      <th>genres</th>\n      <th>imdb_id</th>\n      <th>original_language</th>\n      <th>original_title</th>\n      <th>overview</th>\n      <th>popularity</th>\n      <th>production_companies</th>\n      <th>production_countries</th>\n      <th>...</th>\n      <th>runtime</th>\n      <th>spoken_languages</th>\n      <th>status</th>\n      <th>tagline</th>\n      <th>title</th>\n      <th>vote_average</th>\n      <th>vote_count</th>\n      <th>production_companies_number</th>\n      <th>production_countries_number</th>\n      <th>spoken_languages_number</th>\n    </tr>\n  </thead>\n  <tbody>\n    <tr>\n      <th>0</th>\n      <td>2</td>\n      <td>0</td>\n      <td>Drama|Crime</td>\n      <td>tt0094675</td>\n      <td>fi</td>\n      <td>Ariel</td>\n      <td>Taisto Kasurinen is a Finnish coal miner whose...</td>\n      <td>0.823904</td>\n      <td>Villealfa Filmproduction Oy</td>\n      <td>Finland</td>\n      <td>...</td>\n      <td>69.0</td>\n      <td>suomi</td>\n      <td>Released</td>\n      <td>NaN</td>\n      <td>Ariel</td>\n      <td>7.1</td>\n      <td>40</td>\n      <td>2</td>\n      <td>1</td>\n      <td>2</td>\n    </tr>\n    <tr>\n      <th>1</th>\n      <td>3</td>\n      <td>0</td>\n      <td>Drama|Comedy</td>\n      <td>tt0092149</td>\n      <td>fi</td>\n      <td>Varjoja paratiisissa</td>\n      <td>An episode in the life of Nikander, a garbage ...</td>\n      <td>0.47445</td>\n      <td>Villealfa Filmproduction Oy</td>\n      <td>Finland</td>\n      <td>...</td>\n      <td>76.0</td>\n      <td>English</td>\n      <td>Released</td>\n      <td>NaN</td>\n      <td>Shadows in Paradise</td>\n      <td>7.0</td>\n      <td>32</td>\n      <td>1</td>\n      <td>1</td>\n      <td>3</td>\n    </tr>\n    <tr>\n      <th>2</th>\n      <td>5</td>\n      <td>4000000</td>\n      <td>Crime|Comedy</td>\n      <td>tt0113101</td>\n      <td>en</td>\n      <td>Four Rooms</td>\n      <td>It's Ted the Bellhop's first night on the job....</td>\n      <td>1.698</td>\n      <td>Miramax Films</td>\n      <td>United States of America</td>\n      <td>...</td>\n      <td>98.0</td>\n      <td>English</td>\n      <td>Released</td>\n      <td>Twelve outrageous guests. Four scandalous requ...</td>\n      <td>Four Rooms</td>\n      <td>6.5</td>\n      <td>485</td>\n      <td>2</td>\n      <td>1</td>\n      <td>1</td>\n    </tr>\n    <tr>\n      <th>3</th>\n      <td>6</td>\n      <td>0</td>\n      <td>Action|Thriller|Crime</td>\n      <td>tt0107286</td>\n      <td>en</td>\n      <td>Judgment Night</td>\n      <td>While racing to a boxing match, Frank, Mike, J...</td>\n      <td>1.32287</td>\n      <td>Universal Pictures</td>\n      <td>Japan</td>\n      <td>...</td>\n      <td>110.0</td>\n      <td>English</td>\n      <td>Released</td>\n      <td>Don't move. Don't whisper. Don't even breathe.</td>\n      <td>Judgment Night</td>\n      <td>6.5</td>\n      <td>69</td>\n      <td>3</td>\n      <td>2</td>\n      <td>1</td>\n    </tr>\n    <tr>\n      <th>4</th>\n      <td>8</td>\n      <td>42000</td>\n      <td>Documentary</td>\n      <td>tt0825671</td>\n      <td>en</td>\n      <td>Life in Loops (A Megacities RMX)</td>\n      <td>Timo Novotny labels his new project an experim...</td>\n      <td>0.054716</td>\n      <td>inLoops</td>\n      <td>Austria</td>\n      <td>...</td>\n      <td>80.0</td>\n      <td>English</td>\n      <td>Released</td>\n      <td>A Megacities remix.</td>\n      <td>Life in Loops (A Megacities RMX)</td>\n      <td>6.4</td>\n      <td>4</td>\n      <td>1</td>\n      <td>1</td>\n      <td>5</td>\n    </tr>\n    <tr>\n      <th>...</th>\n      <td>...</td>\n      <td>...</td>\n      <td>...</td>\n      <td>...</td>\n      <td>...</td>\n      <td>...</td>\n      <td>...</td>\n      <td>...</td>\n      <td>...</td>\n      <td>...</td>\n      <td>...</td>\n      <td>...</td>\n      <td>...</td>\n      <td>...</td>\n      <td>...</td>\n      <td>...</td>\n      <td>...</td>\n      <td>...</td>\n      <td>...</td>\n      <td>...</td>\n      <td>...</td>\n    </tr>\n    <tr>\n      <th>329039</th>\n      <td>469215</td>\n      <td>0</td>\n      <td>Documentary|History|TV Movie</td>\n      <td>tt5430190</td>\n      <td>en</td>\n      <td>The Day Hitler Died</td>\n      <td>The story of Hitler’s final hours told by peop...</td>\n      <td>0.0045</td>\n      <td>History Channel</td>\n      <td>United States of America</td>\n      <td>...</td>\n      <td>46.0</td>\n      <td>Deutsch</td>\n      <td>Released</td>\n      <td>April 30th, 1945</td>\n      <td>The Day Hitler Died</td>\n      <td>7.0</td>\n      <td>1</td>\n      <td>1</td>\n      <td>1</td>\n      <td>2</td>\n    </tr>\n    <tr>\n      <th>329040</th>\n      <td>469216</td>\n      <td>0</td>\n      <td>NaN</td>\n      <td>NaN</td>\n      <td>de</td>\n      <td>Mobb Deep - Life of the Infamous: The Videos</td>\n      <td>NaN</td>\n      <td>0.00045</td>\n      <td>Sony Music Entertainmant</td>\n      <td>United States of America</td>\n      <td>...</td>\n      <td>NaN</td>\n      <td>English</td>\n      <td>Released</td>\n      <td>NaN</td>\n      <td>Mobb Deep - Life of the Infamous: The Videos</td>\n      <td>9.0</td>\n      <td>1</td>\n      <td>1</td>\n      <td>1</td>\n      <td>1</td>\n    </tr>\n    <tr>\n      <th>329041</th>\n      <td>469217</td>\n      <td>0</td>\n      <td>Drama|Comedy</td>\n      <td>NaN</td>\n      <td>en</td>\n      <td>#idiot</td>\n      <td>In the modern day pursuit of fame and fortune,...</td>\n      <td>1.37217</td>\n      <td>none</td>\n      <td>Malaysia</td>\n      <td>...</td>\n      <td>11.0</td>\n      <td>English</td>\n      <td>Released</td>\n      <td>NaN</td>\n      <td>#idiot</td>\n      <td>0.0</td>\n      <td>0</td>\n      <td>0</td>\n      <td>1</td>\n      <td>1</td>\n    </tr>\n    <tr>\n      <th>329042</th>\n      <td>469218</td>\n      <td>0</td>\n      <td>Drama|Comedy</td>\n      <td>tt6391664</td>\n      <td>en</td>\n      <td>Conspiracy P.I.E</td>\n      <td>Director Levi A. Taylor invites you on a nosta...</td>\n      <td>0.0096</td>\n      <td>none</td>\n      <td>United States of America</td>\n      <td>...</td>\n      <td>12.0</td>\n      <td>English</td>\n      <td>Released</td>\n      <td>NaN</td>\n      <td>Conspiracy P.I.E</td>\n      <td>0.0</td>\n      <td>0</td>\n      <td>0</td>\n      <td>1</td>\n      <td>1</td>\n    </tr>\n    <tr>\n      <th>329043</th>\n      <td>469219</td>\n      <td>0</td>\n      <td>Drama</td>\n      <td>tt6413160</td>\n      <td>en</td>\n      <td>Chance</td>\n      <td>A homeless man is given a second chance at lif...</td>\n      <td>0.0759</td>\n      <td>none</td>\n      <td>United States of America</td>\n      <td>...</td>\n      <td>90.0</td>\n      <td>English</td>\n      <td>Released</td>\n      <td>NaN</td>\n      <td>Chance</td>\n      <td>0.0</td>\n      <td>0</td>\n      <td>0</td>\n      <td>1</td>\n      <td>1</td>\n    </tr>\n  </tbody>\n</table>\n<p>329044 rows × 22 columns</p>\n</div>"
     },
     "execution_count": 5,
     "metadata": {},
     "output_type": "execute_result"
    }
   ],
   "source": [
    "df"
   ],
   "metadata": {
    "collapsed": false,
    "ExecuteTime": {
     "end_time": "2024-06-12T16:50:21.630880Z",
     "start_time": "2024-06-12T16:50:21.366344Z"
    }
   },
   "id": "111db52994c68b93",
   "execution_count": 5
  },
  {
   "cell_type": "code",
   "outputs": [],
   "source": [
    "df = df.drop_duplicates()"
   ],
   "metadata": {
    "collapsed": false,
    "ExecuteTime": {
     "end_time": "2024-06-12T16:50:22.031916Z",
     "start_time": "2024-06-12T16:50:21.634289Z"
    }
   },
   "id": "7872e0f366b84526",
   "execution_count": 6
  },
  {
   "cell_type": "code",
   "outputs": [],
   "source": [
    "df['genres'] = df['genres'].str.split('|')"
   ],
   "metadata": {
    "collapsed": false,
    "ExecuteTime": {
     "end_time": "2024-06-12T16:50:22.280524Z",
     "start_time": "2024-06-12T16:50:22.034357Z"
    }
   },
   "id": "597c78d5ce4e416f",
   "execution_count": 7
  },
  {
   "cell_type": "code",
   "outputs": [],
   "source": [
    "df['release_date'] = pd.to_datetime(df['release_date'], format='mixed')"
   ],
   "metadata": {
    "collapsed": false,
    "ExecuteTime": {
     "end_time": "2024-06-12T16:50:22.362693Z",
     "start_time": "2024-06-12T16:50:22.281738Z"
    }
   },
   "id": "97a82508789aae8c",
   "execution_count": 8
  },
  {
   "cell_type": "code",
   "outputs": [],
   "source": [
    "# Replace commas with periods\n",
    "df['popularity'] = df['popularity'].str.replace(',', '.')\n",
    "\n",
    "# Remove any leading/trailing whitespace (if any)\n",
    "df['popularity'] = df['popularity'].str.strip()\n",
    "\n",
    "# Convert the 'popularity' column to float\n",
    "df = df.astype({'popularity': 'float64'})"
   ],
   "metadata": {
    "collapsed": false,
    "ExecuteTime": {
     "end_time": "2024-06-12T16:50:22.466155Z",
     "start_time": "2024-06-12T16:50:22.363253Z"
    }
   },
   "id": "2f3aa0a1bb3cf9d4",
   "execution_count": 9
  },
  {
   "cell_type": "markdown",
   "source": [
    "# Machine Learning Model  "
   ],
   "metadata": {
    "collapsed": false
   },
   "id": "350ef2cd64139ad2"
  },
  {
   "cell_type": "markdown",
   "source": [
    "##  Collect and Prepare Data "
   ],
   "metadata": {
    "collapsed": false
   },
   "id": "fcea58dc57e305dc"
  },
  {
   "cell_type": "code",
   "outputs": [],
   "source": [
    "prediction_df = df[['genres', 'overview']].copy()\n",
    "prediction_df = prediction_df.drop_duplicates(subset='overview')"
   ],
   "metadata": {
    "collapsed": false,
    "ExecuteTime": {
     "end_time": "2024-06-12T16:50:22.532330Z",
     "start_time": "2024-06-12T16:50:22.467Z"
    }
   },
   "id": "47a9a60bca60045e",
   "execution_count": 10
  },
  {
   "cell_type": "code",
   "outputs": [],
   "source": [
    "prediction_df = prediction_df[prediction_df['overview'] != \"No overview found.\"]\n",
    "prediction_df = prediction_df[prediction_df['overview'] != \"        \"]\n",
    "prediction_df = prediction_df[prediction_df['overview'] != \" \"]\n",
    "prediction_df = prediction_df[prediction_df['overview'] != \"//\"]"
   ],
   "metadata": {
    "collapsed": false,
    "ExecuteTime": {
     "end_time": "2024-06-12T16:50:22.636554Z",
     "start_time": "2024-06-12T16:50:22.533134Z"
    }
   },
   "id": "c9a08640b95f6e2c",
   "execution_count": 11
  },
  {
   "cell_type": "code",
   "outputs": [],
   "source": [
    "prediction_df = prediction_df.dropna(subset=['genres', 'overview'])"
   ],
   "metadata": {
    "collapsed": false,
    "ExecuteTime": {
     "end_time": "2024-06-12T16:50:22.673494Z",
     "start_time": "2024-06-12T16:50:22.637134Z"
    }
   },
   "id": "8a835ed8dc4a1623",
   "execution_count": 12
  },
  {
   "cell_type": "code",
   "outputs": [
    {
     "data": {
      "text/plain": "                                  genres  \\\n0                         [Drama, Crime]   \n1                        [Drama, Comedy]   \n2                        [Crime, Comedy]   \n3              [Action, Thriller, Crime]   \n4                          [Documentary]   \n...                                  ...   \n329037                          [Comedy]   \n329039  [Documentary, History, TV Movie]   \n329041                   [Drama, Comedy]   \n329042                   [Drama, Comedy]   \n329043                           [Drama]   \n\n                                                 overview  \n0       Taisto Kasurinen is a Finnish coal miner whose...  \n1       An episode in the life of Nikander, a garbage ...  \n2       It's Ted the Bellhop's first night on the job....  \n3       While racing to a boxing match, Frank, Mike, J...  \n4       Timo Novotny labels his new project an experim...  \n...                                                   ...  \n329037  Spanked onto this program is the outrageous be...  \n329039  The story of Hitler’s final hours told by peop...  \n329041  In the modern day pursuit of fame and fortune,...  \n329042  Director Levi A. Taylor invites you on a nosta...  \n329043  A homeless man is given a second chance at lif...  \n\n[173453 rows x 2 columns]",
      "text/html": "<div>\n<style scoped>\n    .dataframe tbody tr th:only-of-type {\n        vertical-align: middle;\n    }\n\n    .dataframe tbody tr th {\n        vertical-align: top;\n    }\n\n    .dataframe thead th {\n        text-align: right;\n    }\n</style>\n<table border=\"1\" class=\"dataframe\">\n  <thead>\n    <tr style=\"text-align: right;\">\n      <th></th>\n      <th>genres</th>\n      <th>overview</th>\n    </tr>\n  </thead>\n  <tbody>\n    <tr>\n      <th>0</th>\n      <td>[Drama, Crime]</td>\n      <td>Taisto Kasurinen is a Finnish coal miner whose...</td>\n    </tr>\n    <tr>\n      <th>1</th>\n      <td>[Drama, Comedy]</td>\n      <td>An episode in the life of Nikander, a garbage ...</td>\n    </tr>\n    <tr>\n      <th>2</th>\n      <td>[Crime, Comedy]</td>\n      <td>It's Ted the Bellhop's first night on the job....</td>\n    </tr>\n    <tr>\n      <th>3</th>\n      <td>[Action, Thriller, Crime]</td>\n      <td>While racing to a boxing match, Frank, Mike, J...</td>\n    </tr>\n    <tr>\n      <th>4</th>\n      <td>[Documentary]</td>\n      <td>Timo Novotny labels his new project an experim...</td>\n    </tr>\n    <tr>\n      <th>...</th>\n      <td>...</td>\n      <td>...</td>\n    </tr>\n    <tr>\n      <th>329037</th>\n      <td>[Comedy]</td>\n      <td>Spanked onto this program is the outrageous be...</td>\n    </tr>\n    <tr>\n      <th>329039</th>\n      <td>[Documentary, History, TV Movie]</td>\n      <td>The story of Hitler’s final hours told by peop...</td>\n    </tr>\n    <tr>\n      <th>329041</th>\n      <td>[Drama, Comedy]</td>\n      <td>In the modern day pursuit of fame and fortune,...</td>\n    </tr>\n    <tr>\n      <th>329042</th>\n      <td>[Drama, Comedy]</td>\n      <td>Director Levi A. Taylor invites you on a nosta...</td>\n    </tr>\n    <tr>\n      <th>329043</th>\n      <td>[Drama]</td>\n      <td>A homeless man is given a second chance at lif...</td>\n    </tr>\n  </tbody>\n</table>\n<p>173453 rows × 2 columns</p>\n</div>"
     },
     "execution_count": 13,
     "metadata": {},
     "output_type": "execute_result"
    }
   ],
   "source": [
    "prediction_df"
   ],
   "metadata": {
    "collapsed": false,
    "ExecuteTime": {
     "end_time": "2024-06-12T16:50:22.678888Z",
     "start_time": "2024-06-12T16:50:22.674475Z"
    }
   },
   "id": "c7a12420191930bc",
   "execution_count": 13
  },
  {
   "cell_type": "code",
   "outputs": [
    {
     "data": {
      "text/plain": "genres      0\noverview    0\ndtype: int64"
     },
     "execution_count": 14,
     "metadata": {},
     "output_type": "execute_result"
    }
   ],
   "source": [
    "prediction_df.isnull().sum()"
   ],
   "metadata": {
    "collapsed": false,
    "ExecuteTime": {
     "end_time": "2024-06-12T16:50:22.694680Z",
     "start_time": "2024-06-12T16:50:22.680939Z"
    }
   },
   "id": "945ff5a52a999d47",
   "execution_count": 14
  },
  {
   "cell_type": "code",
   "outputs": [
    {
     "data": {
      "text/plain": "array(['Drama', 'Crime', 'Comedy', 'Action', 'Thriller', 'Documentary',\n       'Adventure', 'Science Fiction', 'Animation', 'Family', 'Romance',\n       'Mystery', 'Music', 'Horror', 'Fantasy', 'War', 'History',\n       'Western', 'Foreign', 'TV Movie'], dtype=object)"
     },
     "execution_count": 15,
     "metadata": {},
     "output_type": "execute_result"
    }
   ],
   "source": [
    "genres_list = prediction_df['genres'].explode()\n",
    "\n",
    "unique_genres = genres_list.unique()\n",
    "unique_genres"
   ],
   "metadata": {
    "collapsed": false,
    "ExecuteTime": {
     "end_time": "2024-06-12T16:50:22.727911Z",
     "start_time": "2024-06-12T16:50:22.695448Z"
    }
   },
   "id": "f45b49ce84abef97",
   "execution_count": 15
  },
  {
   "cell_type": "code",
   "outputs": [],
   "source": [
    "df_predict = prediction_df.copy()"
   ],
   "metadata": {
    "collapsed": false,
    "ExecuteTime": {
     "end_time": "2024-06-12T16:50:22.733884Z",
     "start_time": "2024-06-12T16:50:22.728609Z"
    }
   },
   "id": "e7913aed36393b1",
   "execution_count": 16
  },
  {
   "cell_type": "code",
   "outputs": [],
   "source": [
    "def preprocess_text(text):\n",
    "    lemmatizer = WordNetLemmatizer()\n",
    "    stemmer = PorterStemmer()\n",
    "    processed_text = text.lower()\n",
    "\n",
    "        # Remove HTML tags\n",
    "    processed_text = re.sub(r'<.*?>', '', processed_text)\n",
    "\n",
    "    # Remove urls\n",
    "    processed_text = re.sub(r'http\\S+', '', processed_text)\n",
    "\n",
    "    # Remove hashtags and @ symbols\n",
    "    processed_text = re.sub(r'#', '', processed_text)\n",
    "    processed_text = re.sub(r'@', '', processed_text)\n",
    "\n",
    "   # # Tokenize the text\n",
    "   #  tokens = word_tokenize(processed_text)\n",
    "   # \n",
    "   #  # Remove punctuation\n",
    "   #  tokens = [token for token in tokens if token.isalpha()]\n",
    "   # \n",
    "   #  # Remove stop words\n",
    "   #  tokens = [token for token in tokens if token not in stop_words]\n",
    "\n",
    "    # Apply lemmatizing\n",
    "   # tokens = [lemmatizer.lemmatize(token) for token in tokens]\n",
    "\n",
    "    # Apply stemming\n",
    "  #  tokens = [stemmer.stem(token) for token in tokens]\n",
    "\n",
    "    # # Join the tokens back into a string\n",
    "    # processed_text = ' '.join(tokens)\n",
    "\n",
    "    return processed_text"
   ],
   "metadata": {
    "collapsed": false,
    "ExecuteTime": {
     "end_time": "2024-06-12T16:50:22.737610Z",
     "start_time": "2024-06-12T16:50:22.734699Z"
    }
   },
   "id": "69f4a8c4abdb087b",
   "execution_count": 17
  },
  {
   "cell_type": "code",
   "outputs": [],
   "source": [
    "# Apply preprocessing to overview\n",
    "df_predict['overview_clean'] = df_predict['overview'].apply(preprocess_text)"
   ],
   "metadata": {
    "collapsed": false,
    "ExecuteTime": {
     "end_time": "2024-06-12T16:50:23.877906Z",
     "start_time": "2024-06-12T16:50:22.738388Z"
    }
   },
   "id": "c254d2a624151000",
   "execution_count": 18
  },
  {
   "cell_type": "code",
   "outputs": [],
   "source": [
    "df_predict = df_predict.sort_values(by='overview_clean', ascending=False)\n",
    "\n",
    "# Delete the first 399 rows\n",
    "df_predict = df_predict.iloc[399:]\n",
    "\n",
    "df_predict = df_predict.sort_values(by='overview_clean', ascending=True)\n",
    "\n",
    "# Delete the first 30 rows\n",
    "df_predict = df_predict.iloc[30:]"
   ],
   "metadata": {
    "collapsed": false,
    "ExecuteTime": {
     "end_time": "2024-06-12T16:50:24.141515Z",
     "start_time": "2024-06-12T16:50:23.878536Z"
    }
   },
   "id": "c1e37e65446364d1",
   "execution_count": 19
  },
  {
   "cell_type": "code",
   "outputs": [],
   "source": [
    "mlb = MultiLabelBinarizer()\n",
    "genres_binarized = mlb.fit_transform(df_predict['genres'])"
   ],
   "metadata": {
    "collapsed": false,
    "ExecuteTime": {
     "end_time": "2024-06-12T16:50:24.253867Z",
     "start_time": "2024-06-12T16:50:24.142367Z"
    }
   },
   "id": "3eca1baca009ac7",
   "execution_count": 20
  },
  {
   "cell_type": "code",
   "outputs": [],
   "source": [
    "# One-hot encode genres\n",
    "genres_df = df_predict['genres'].explode().reset_index()\n",
    "genres_df = pd.get_dummies(genres_df['genres']).groupby(genres_df['index']).sum()\n",
    "\n",
    "df_predict = df_predict.drop(columns=['genres', 'overview']).join(genres_df)\n"
   ],
   "metadata": {
    "collapsed": false,
    "ExecuteTime": {
     "end_time": "2024-06-12T16:50:24.516895Z",
     "start_time": "2024-06-12T16:50:24.254665Z"
    }
   },
   "id": "298ef4a61d79df00",
   "execution_count": 21
  },
  {
   "cell_type": "code",
   "outputs": [
    {
     "data": {
      "text/plain": "                                           overview_clean  Action  Adventure  \\\n105152  \"a feature-length deluge of incessant, brillia...       0          0   \n297821  \"a feeling of listlessness and dissatisfaction...       0          0   \n93524   \"a film about coffee\" is a love letter to, and...       0          0   \n215348  \"a film about musicologists who can’t dance, n...       0          0   \n287812  \"a film by juan-luis buñuel shot in 1964 docum...       0          0   \n...                                                   ...     ...        ...   \n45124   ульяна тулина необычный человек — во взрослом ...       0          0   \n43532   уникальный синтез боевика и любовной истории. ...       1          0   \n44949   успешный бизнесмен антон - отец-одиночка. дела...       0          0   \n44540   фантастико-приключенческий фильм по новеллам с...       0          0   \n55170   фильм «день рождения алисы» рассказывает о нео...       0          0   \n\n        Animation  Comedy  Crime  Documentary  Drama  Family  Fantasy  ...  \\\n105152          0       0      0            0      1       0        0  ...   \n297821          0       0      0            0      1       0        0  ...   \n93524           0       0      0            1      0       0        0  ...   \n215348          0       0      0            1      0       0        0  ...   \n287812          0       0      0            1      0       0        0  ...   \n...           ...     ...    ...          ...    ...     ...      ...  ...   \n45124           0       0      0            0      1       0        0  ...   \n43532           0       0      1            0      0       0        0  ...   \n44949           0       0      0            0      1       0        0  ...   \n44540           0       0      0            0      0       0        0  ...   \n55170           1       0      0            0      0       1        0  ...   \n\n        History  Horror  Music  Mystery  Romance  Science Fiction  TV Movie  \\\n105152        0       0      0        0        0                0         0   \n297821        0       0      1        0        0                0         0   \n93524         0       0      0        0        0                0         0   \n215348        0       0      0        0        0                0         0   \n287812        0       0      0        0        0                0         0   \n...         ...     ...    ...      ...      ...              ...       ...   \n45124         0       0      0        0        0                0         0   \n43532         0       0      0        0        1                0         0   \n44949         0       0      0        0        1                0         0   \n44540         0       1      0        0        0                0         0   \n55170         0       0      0        0        0                1         0   \n\n        Thriller  War  Western  \n105152         0    0        0  \n297821         0    0        0  \n93524          0    0        0  \n215348         0    0        0  \n287812         0    0        0  \n...          ...  ...      ...  \n45124          0    0        0  \n43532          0    0        0  \n44949          0    0        0  \n44540          0    0        0  \n55170          0    0        0  \n\n[173024 rows x 21 columns]",
      "text/html": "<div>\n<style scoped>\n    .dataframe tbody tr th:only-of-type {\n        vertical-align: middle;\n    }\n\n    .dataframe tbody tr th {\n        vertical-align: top;\n    }\n\n    .dataframe thead th {\n        text-align: right;\n    }\n</style>\n<table border=\"1\" class=\"dataframe\">\n  <thead>\n    <tr style=\"text-align: right;\">\n      <th></th>\n      <th>overview_clean</th>\n      <th>Action</th>\n      <th>Adventure</th>\n      <th>Animation</th>\n      <th>Comedy</th>\n      <th>Crime</th>\n      <th>Documentary</th>\n      <th>Drama</th>\n      <th>Family</th>\n      <th>Fantasy</th>\n      <th>...</th>\n      <th>History</th>\n      <th>Horror</th>\n      <th>Music</th>\n      <th>Mystery</th>\n      <th>Romance</th>\n      <th>Science Fiction</th>\n      <th>TV Movie</th>\n      <th>Thriller</th>\n      <th>War</th>\n      <th>Western</th>\n    </tr>\n  </thead>\n  <tbody>\n    <tr>\n      <th>105152</th>\n      <td>\"a feature-length deluge of incessant, brillia...</td>\n      <td>0</td>\n      <td>0</td>\n      <td>0</td>\n      <td>0</td>\n      <td>0</td>\n      <td>0</td>\n      <td>1</td>\n      <td>0</td>\n      <td>0</td>\n      <td>...</td>\n      <td>0</td>\n      <td>0</td>\n      <td>0</td>\n      <td>0</td>\n      <td>0</td>\n      <td>0</td>\n      <td>0</td>\n      <td>0</td>\n      <td>0</td>\n      <td>0</td>\n    </tr>\n    <tr>\n      <th>297821</th>\n      <td>\"a feeling of listlessness and dissatisfaction...</td>\n      <td>0</td>\n      <td>0</td>\n      <td>0</td>\n      <td>0</td>\n      <td>0</td>\n      <td>0</td>\n      <td>1</td>\n      <td>0</td>\n      <td>0</td>\n      <td>...</td>\n      <td>0</td>\n      <td>0</td>\n      <td>1</td>\n      <td>0</td>\n      <td>0</td>\n      <td>0</td>\n      <td>0</td>\n      <td>0</td>\n      <td>0</td>\n      <td>0</td>\n    </tr>\n    <tr>\n      <th>93524</th>\n      <td>\"a film about coffee\" is a love letter to, and...</td>\n      <td>0</td>\n      <td>0</td>\n      <td>0</td>\n      <td>0</td>\n      <td>0</td>\n      <td>1</td>\n      <td>0</td>\n      <td>0</td>\n      <td>0</td>\n      <td>...</td>\n      <td>0</td>\n      <td>0</td>\n      <td>0</td>\n      <td>0</td>\n      <td>0</td>\n      <td>0</td>\n      <td>0</td>\n      <td>0</td>\n      <td>0</td>\n      <td>0</td>\n    </tr>\n    <tr>\n      <th>215348</th>\n      <td>\"a film about musicologists who can’t dance, n...</td>\n      <td>0</td>\n      <td>0</td>\n      <td>0</td>\n      <td>0</td>\n      <td>0</td>\n      <td>1</td>\n      <td>0</td>\n      <td>0</td>\n      <td>0</td>\n      <td>...</td>\n      <td>0</td>\n      <td>0</td>\n      <td>0</td>\n      <td>0</td>\n      <td>0</td>\n      <td>0</td>\n      <td>0</td>\n      <td>0</td>\n      <td>0</td>\n      <td>0</td>\n    </tr>\n    <tr>\n      <th>287812</th>\n      <td>\"a film by juan-luis buñuel shot in 1964 docum...</td>\n      <td>0</td>\n      <td>0</td>\n      <td>0</td>\n      <td>0</td>\n      <td>0</td>\n      <td>1</td>\n      <td>0</td>\n      <td>0</td>\n      <td>0</td>\n      <td>...</td>\n      <td>0</td>\n      <td>0</td>\n      <td>0</td>\n      <td>0</td>\n      <td>0</td>\n      <td>0</td>\n      <td>0</td>\n      <td>0</td>\n      <td>0</td>\n      <td>0</td>\n    </tr>\n    <tr>\n      <th>...</th>\n      <td>...</td>\n      <td>...</td>\n      <td>...</td>\n      <td>...</td>\n      <td>...</td>\n      <td>...</td>\n      <td>...</td>\n      <td>...</td>\n      <td>...</td>\n      <td>...</td>\n      <td>...</td>\n      <td>...</td>\n      <td>...</td>\n      <td>...</td>\n      <td>...</td>\n      <td>...</td>\n      <td>...</td>\n      <td>...</td>\n      <td>...</td>\n      <td>...</td>\n      <td>...</td>\n    </tr>\n    <tr>\n      <th>45124</th>\n      <td>ульяна тулина необычный человек — во взрослом ...</td>\n      <td>0</td>\n      <td>0</td>\n      <td>0</td>\n      <td>0</td>\n      <td>0</td>\n      <td>0</td>\n      <td>1</td>\n      <td>0</td>\n      <td>0</td>\n      <td>...</td>\n      <td>0</td>\n      <td>0</td>\n      <td>0</td>\n      <td>0</td>\n      <td>0</td>\n      <td>0</td>\n      <td>0</td>\n      <td>0</td>\n      <td>0</td>\n      <td>0</td>\n    </tr>\n    <tr>\n      <th>43532</th>\n      <td>уникальный синтез боевика и любовной истории. ...</td>\n      <td>1</td>\n      <td>0</td>\n      <td>0</td>\n      <td>0</td>\n      <td>1</td>\n      <td>0</td>\n      <td>0</td>\n      <td>0</td>\n      <td>0</td>\n      <td>...</td>\n      <td>0</td>\n      <td>0</td>\n      <td>0</td>\n      <td>0</td>\n      <td>1</td>\n      <td>0</td>\n      <td>0</td>\n      <td>0</td>\n      <td>0</td>\n      <td>0</td>\n    </tr>\n    <tr>\n      <th>44949</th>\n      <td>успешный бизнесмен антон - отец-одиночка. дела...</td>\n      <td>0</td>\n      <td>0</td>\n      <td>0</td>\n      <td>0</td>\n      <td>0</td>\n      <td>0</td>\n      <td>1</td>\n      <td>0</td>\n      <td>0</td>\n      <td>...</td>\n      <td>0</td>\n      <td>0</td>\n      <td>0</td>\n      <td>0</td>\n      <td>1</td>\n      <td>0</td>\n      <td>0</td>\n      <td>0</td>\n      <td>0</td>\n      <td>0</td>\n    </tr>\n    <tr>\n      <th>44540</th>\n      <td>фантастико-приключенческий фильм по новеллам с...</td>\n      <td>0</td>\n      <td>0</td>\n      <td>0</td>\n      <td>0</td>\n      <td>0</td>\n      <td>0</td>\n      <td>0</td>\n      <td>0</td>\n      <td>0</td>\n      <td>...</td>\n      <td>0</td>\n      <td>1</td>\n      <td>0</td>\n      <td>0</td>\n      <td>0</td>\n      <td>0</td>\n      <td>0</td>\n      <td>0</td>\n      <td>0</td>\n      <td>0</td>\n    </tr>\n    <tr>\n      <th>55170</th>\n      <td>фильм «день рождения алисы» рассказывает о нео...</td>\n      <td>0</td>\n      <td>0</td>\n      <td>1</td>\n      <td>0</td>\n      <td>0</td>\n      <td>0</td>\n      <td>0</td>\n      <td>1</td>\n      <td>0</td>\n      <td>...</td>\n      <td>0</td>\n      <td>0</td>\n      <td>0</td>\n      <td>0</td>\n      <td>0</td>\n      <td>1</td>\n      <td>0</td>\n      <td>0</td>\n      <td>0</td>\n      <td>0</td>\n    </tr>\n  </tbody>\n</table>\n<p>173024 rows × 21 columns</p>\n</div>"
     },
     "execution_count": 22,
     "metadata": {},
     "output_type": "execute_result"
    }
   ],
   "source": [
    "df_predict"
   ],
   "metadata": {
    "collapsed": false,
    "ExecuteTime": {
     "end_time": "2024-06-12T16:50:24.561979Z",
     "start_time": "2024-06-12T16:50:24.517645Z"
    }
   },
   "id": "b4c418e66ffccf84",
   "execution_count": 22
  },
  {
   "cell_type": "markdown",
   "source": [
    "## Select and Train the Model "
   ],
   "metadata": {
    "collapsed": false
   },
   "id": "f905a5b7b309b548"
  },
  {
   "cell_type": "code",
   "outputs": [],
   "source": [
    "# Split data\n",
    "X_train, X_test, y_train, y_test = train_test_split(df_predict['overview_clean'], genres_binarized, test_size=0.1, random_state=42)"
   ],
   "metadata": {
    "collapsed": false,
    "ExecuteTime": {
     "end_time": "2024-06-12T16:50:24.590387Z",
     "start_time": "2024-06-12T16:50:24.562632Z"
    }
   },
   "id": "2a315ef76dfea07e",
   "execution_count": 23
  },
  {
   "cell_type": "code",
   "outputs": [],
   "source": [
    "# Vectorize overviews\n",
    "tfidf = TfidfVectorizer(max_features=10000)\n",
    "X_train_tfidf = tfidf.fit_transform(X_train)\n",
    "X_test_tfidf = tfidf.transform(X_test)"
   ],
   "metadata": {
    "collapsed": false,
    "ExecuteTime": {
     "end_time": "2024-06-12T16:50:28.957974Z",
     "start_time": "2024-06-12T16:50:24.591044Z"
    }
   },
   "id": "bce17428d666fd07",
   "execution_count": 24
  },
  {
   "cell_type": "code",
   "outputs": [
    {
     "data": {
      "text/plain": "MultiOutputClassifier(estimator=LogisticRegression())",
      "text/html": "<style>#sk-container-id-1 {\n  /* Definition of color scheme common for light and dark mode */\n  --sklearn-color-text: black;\n  --sklearn-color-line: gray;\n  /* Definition of color scheme for unfitted estimators */\n  --sklearn-color-unfitted-level-0: #fff5e6;\n  --sklearn-color-unfitted-level-1: #f6e4d2;\n  --sklearn-color-unfitted-level-2: #ffe0b3;\n  --sklearn-color-unfitted-level-3: chocolate;\n  /* Definition of color scheme for fitted estimators */\n  --sklearn-color-fitted-level-0: #f0f8ff;\n  --sklearn-color-fitted-level-1: #d4ebff;\n  --sklearn-color-fitted-level-2: #b3dbfd;\n  --sklearn-color-fitted-level-3: cornflowerblue;\n\n  /* Specific color for light theme */\n  --sklearn-color-text-on-default-background: var(--sg-text-color, var(--theme-code-foreground, var(--jp-content-font-color1, black)));\n  --sklearn-color-background: var(--sg-background-color, var(--theme-background, var(--jp-layout-color0, white)));\n  --sklearn-color-border-box: var(--sg-text-color, var(--theme-code-foreground, var(--jp-content-font-color1, black)));\n  --sklearn-color-icon: #696969;\n\n  @media (prefers-color-scheme: dark) {\n    /* Redefinition of color scheme for dark theme */\n    --sklearn-color-text-on-default-background: var(--sg-text-color, var(--theme-code-foreground, var(--jp-content-font-color1, white)));\n    --sklearn-color-background: var(--sg-background-color, var(--theme-background, var(--jp-layout-color0, #111)));\n    --sklearn-color-border-box: var(--sg-text-color, var(--theme-code-foreground, var(--jp-content-font-color1, white)));\n    --sklearn-color-icon: #878787;\n  }\n}\n\n#sk-container-id-1 {\n  color: var(--sklearn-color-text);\n}\n\n#sk-container-id-1 pre {\n  padding: 0;\n}\n\n#sk-container-id-1 input.sk-hidden--visually {\n  border: 0;\n  clip: rect(1px 1px 1px 1px);\n  clip: rect(1px, 1px, 1px, 1px);\n  height: 1px;\n  margin: -1px;\n  overflow: hidden;\n  padding: 0;\n  position: absolute;\n  width: 1px;\n}\n\n#sk-container-id-1 div.sk-dashed-wrapped {\n  border: 1px dashed var(--sklearn-color-line);\n  margin: 0 0.4em 0.5em 0.4em;\n  box-sizing: border-box;\n  padding-bottom: 0.4em;\n  background-color: var(--sklearn-color-background);\n}\n\n#sk-container-id-1 div.sk-container {\n  /* jupyter's `normalize.less` sets `[hidden] { display: none; }`\n     but bootstrap.min.css set `[hidden] { display: none !important; }`\n     so we also need the `!important` here to be able to override the\n     default hidden behavior on the sphinx rendered scikit-learn.org.\n     See: https://github.com/scikit-learn/scikit-learn/issues/21755 */\n  display: inline-block !important;\n  position: relative;\n}\n\n#sk-container-id-1 div.sk-text-repr-fallback {\n  display: none;\n}\n\ndiv.sk-parallel-item,\ndiv.sk-serial,\ndiv.sk-item {\n  /* draw centered vertical line to link estimators */\n  background-image: linear-gradient(var(--sklearn-color-text-on-default-background), var(--sklearn-color-text-on-default-background));\n  background-size: 2px 100%;\n  background-repeat: no-repeat;\n  background-position: center center;\n}\n\n/* Parallel-specific style estimator block */\n\n#sk-container-id-1 div.sk-parallel-item::after {\n  content: \"\";\n  width: 100%;\n  border-bottom: 2px solid var(--sklearn-color-text-on-default-background);\n  flex-grow: 1;\n}\n\n#sk-container-id-1 div.sk-parallel {\n  display: flex;\n  align-items: stretch;\n  justify-content: center;\n  background-color: var(--sklearn-color-background);\n  position: relative;\n}\n\n#sk-container-id-1 div.sk-parallel-item {\n  display: flex;\n  flex-direction: column;\n}\n\n#sk-container-id-1 div.sk-parallel-item:first-child::after {\n  align-self: flex-end;\n  width: 50%;\n}\n\n#sk-container-id-1 div.sk-parallel-item:last-child::after {\n  align-self: flex-start;\n  width: 50%;\n}\n\n#sk-container-id-1 div.sk-parallel-item:only-child::after {\n  width: 0;\n}\n\n/* Serial-specific style estimator block */\n\n#sk-container-id-1 div.sk-serial {\n  display: flex;\n  flex-direction: column;\n  align-items: center;\n  background-color: var(--sklearn-color-background);\n  padding-right: 1em;\n  padding-left: 1em;\n}\n\n\n/* Toggleable style: style used for estimator/Pipeline/ColumnTransformer box that is\nclickable and can be expanded/collapsed.\n- Pipeline and ColumnTransformer use this feature and define the default style\n- Estimators will overwrite some part of the style using the `sk-estimator` class\n*/\n\n/* Pipeline and ColumnTransformer style (default) */\n\n#sk-container-id-1 div.sk-toggleable {\n  /* Default theme specific background. It is overwritten whether we have a\n  specific estimator or a Pipeline/ColumnTransformer */\n  background-color: var(--sklearn-color-background);\n}\n\n/* Toggleable label */\n#sk-container-id-1 label.sk-toggleable__label {\n  cursor: pointer;\n  display: block;\n  width: 100%;\n  margin-bottom: 0;\n  padding: 0.5em;\n  box-sizing: border-box;\n  text-align: center;\n}\n\n#sk-container-id-1 label.sk-toggleable__label-arrow:before {\n  /* Arrow on the left of the label */\n  content: \"▸\";\n  float: left;\n  margin-right: 0.25em;\n  color: var(--sklearn-color-icon);\n}\n\n#sk-container-id-1 label.sk-toggleable__label-arrow:hover:before {\n  color: var(--sklearn-color-text);\n}\n\n/* Toggleable content - dropdown */\n\n#sk-container-id-1 div.sk-toggleable__content {\n  max-height: 0;\n  max-width: 0;\n  overflow: hidden;\n  text-align: left;\n  /* unfitted */\n  background-color: var(--sklearn-color-unfitted-level-0);\n}\n\n#sk-container-id-1 div.sk-toggleable__content.fitted {\n  /* fitted */\n  background-color: var(--sklearn-color-fitted-level-0);\n}\n\n#sk-container-id-1 div.sk-toggleable__content pre {\n  margin: 0.2em;\n  border-radius: 0.25em;\n  color: var(--sklearn-color-text);\n  /* unfitted */\n  background-color: var(--sklearn-color-unfitted-level-0);\n}\n\n#sk-container-id-1 div.sk-toggleable__content.fitted pre {\n  /* unfitted */\n  background-color: var(--sklearn-color-fitted-level-0);\n}\n\n#sk-container-id-1 input.sk-toggleable__control:checked~div.sk-toggleable__content {\n  /* Expand drop-down */\n  max-height: 200px;\n  max-width: 100%;\n  overflow: auto;\n}\n\n#sk-container-id-1 input.sk-toggleable__control:checked~label.sk-toggleable__label-arrow:before {\n  content: \"▾\";\n}\n\n/* Pipeline/ColumnTransformer-specific style */\n\n#sk-container-id-1 div.sk-label input.sk-toggleable__control:checked~label.sk-toggleable__label {\n  color: var(--sklearn-color-text);\n  background-color: var(--sklearn-color-unfitted-level-2);\n}\n\n#sk-container-id-1 div.sk-label.fitted input.sk-toggleable__control:checked~label.sk-toggleable__label {\n  background-color: var(--sklearn-color-fitted-level-2);\n}\n\n/* Estimator-specific style */\n\n/* Colorize estimator box */\n#sk-container-id-1 div.sk-estimator input.sk-toggleable__control:checked~label.sk-toggleable__label {\n  /* unfitted */\n  background-color: var(--sklearn-color-unfitted-level-2);\n}\n\n#sk-container-id-1 div.sk-estimator.fitted input.sk-toggleable__control:checked~label.sk-toggleable__label {\n  /* fitted */\n  background-color: var(--sklearn-color-fitted-level-2);\n}\n\n#sk-container-id-1 div.sk-label label.sk-toggleable__label,\n#sk-container-id-1 div.sk-label label {\n  /* The background is the default theme color */\n  color: var(--sklearn-color-text-on-default-background);\n}\n\n/* On hover, darken the color of the background */\n#sk-container-id-1 div.sk-label:hover label.sk-toggleable__label {\n  color: var(--sklearn-color-text);\n  background-color: var(--sklearn-color-unfitted-level-2);\n}\n\n/* Label box, darken color on hover, fitted */\n#sk-container-id-1 div.sk-label.fitted:hover label.sk-toggleable__label.fitted {\n  color: var(--sklearn-color-text);\n  background-color: var(--sklearn-color-fitted-level-2);\n}\n\n/* Estimator label */\n\n#sk-container-id-1 div.sk-label label {\n  font-family: monospace;\n  font-weight: bold;\n  display: inline-block;\n  line-height: 1.2em;\n}\n\n#sk-container-id-1 div.sk-label-container {\n  text-align: center;\n}\n\n/* Estimator-specific */\n#sk-container-id-1 div.sk-estimator {\n  font-family: monospace;\n  border: 1px dotted var(--sklearn-color-border-box);\n  border-radius: 0.25em;\n  box-sizing: border-box;\n  margin-bottom: 0.5em;\n  /* unfitted */\n  background-color: var(--sklearn-color-unfitted-level-0);\n}\n\n#sk-container-id-1 div.sk-estimator.fitted {\n  /* fitted */\n  background-color: var(--sklearn-color-fitted-level-0);\n}\n\n/* on hover */\n#sk-container-id-1 div.sk-estimator:hover {\n  /* unfitted */\n  background-color: var(--sklearn-color-unfitted-level-2);\n}\n\n#sk-container-id-1 div.sk-estimator.fitted:hover {\n  /* fitted */\n  background-color: var(--sklearn-color-fitted-level-2);\n}\n\n/* Specification for estimator info (e.g. \"i\" and \"?\") */\n\n/* Common style for \"i\" and \"?\" */\n\n.sk-estimator-doc-link,\na:link.sk-estimator-doc-link,\na:visited.sk-estimator-doc-link {\n  float: right;\n  font-size: smaller;\n  line-height: 1em;\n  font-family: monospace;\n  background-color: var(--sklearn-color-background);\n  border-radius: 1em;\n  height: 1em;\n  width: 1em;\n  text-decoration: none !important;\n  margin-left: 1ex;\n  /* unfitted */\n  border: var(--sklearn-color-unfitted-level-1) 1pt solid;\n  color: var(--sklearn-color-unfitted-level-1);\n}\n\n.sk-estimator-doc-link.fitted,\na:link.sk-estimator-doc-link.fitted,\na:visited.sk-estimator-doc-link.fitted {\n  /* fitted */\n  border: var(--sklearn-color-fitted-level-1) 1pt solid;\n  color: var(--sklearn-color-fitted-level-1);\n}\n\n/* On hover */\ndiv.sk-estimator:hover .sk-estimator-doc-link:hover,\n.sk-estimator-doc-link:hover,\ndiv.sk-label-container:hover .sk-estimator-doc-link:hover,\n.sk-estimator-doc-link:hover {\n  /* unfitted */\n  background-color: var(--sklearn-color-unfitted-level-3);\n  color: var(--sklearn-color-background);\n  text-decoration: none;\n}\n\ndiv.sk-estimator.fitted:hover .sk-estimator-doc-link.fitted:hover,\n.sk-estimator-doc-link.fitted:hover,\ndiv.sk-label-container:hover .sk-estimator-doc-link.fitted:hover,\n.sk-estimator-doc-link.fitted:hover {\n  /* fitted */\n  background-color: var(--sklearn-color-fitted-level-3);\n  color: var(--sklearn-color-background);\n  text-decoration: none;\n}\n\n/* Span, style for the box shown on hovering the info icon */\n.sk-estimator-doc-link span {\n  display: none;\n  z-index: 9999;\n  position: relative;\n  font-weight: normal;\n  right: .2ex;\n  padding: .5ex;\n  margin: .5ex;\n  width: min-content;\n  min-width: 20ex;\n  max-width: 50ex;\n  color: var(--sklearn-color-text);\n  box-shadow: 2pt 2pt 4pt #999;\n  /* unfitted */\n  background: var(--sklearn-color-unfitted-level-0);\n  border: .5pt solid var(--sklearn-color-unfitted-level-3);\n}\n\n.sk-estimator-doc-link.fitted span {\n  /* fitted */\n  background: var(--sklearn-color-fitted-level-0);\n  border: var(--sklearn-color-fitted-level-3);\n}\n\n.sk-estimator-doc-link:hover span {\n  display: block;\n}\n\n/* \"?\"-specific style due to the `<a>` HTML tag */\n\n#sk-container-id-1 a.estimator_doc_link {\n  float: right;\n  font-size: 1rem;\n  line-height: 1em;\n  font-family: monospace;\n  background-color: var(--sklearn-color-background);\n  border-radius: 1rem;\n  height: 1rem;\n  width: 1rem;\n  text-decoration: none;\n  /* unfitted */\n  color: var(--sklearn-color-unfitted-level-1);\n  border: var(--sklearn-color-unfitted-level-1) 1pt solid;\n}\n\n#sk-container-id-1 a.estimator_doc_link.fitted {\n  /* fitted */\n  border: var(--sklearn-color-fitted-level-1) 1pt solid;\n  color: var(--sklearn-color-fitted-level-1);\n}\n\n/* On hover */\n#sk-container-id-1 a.estimator_doc_link:hover {\n  /* unfitted */\n  background-color: var(--sklearn-color-unfitted-level-3);\n  color: var(--sklearn-color-background);\n  text-decoration: none;\n}\n\n#sk-container-id-1 a.estimator_doc_link.fitted:hover {\n  /* fitted */\n  background-color: var(--sklearn-color-fitted-level-3);\n}\n</style><div id=\"sk-container-id-1\" class=\"sk-top-container\"><div class=\"sk-text-repr-fallback\"><pre>MultiOutputClassifier(estimator=LogisticRegression())</pre><b>In a Jupyter environment, please rerun this cell to show the HTML representation or trust the notebook. <br />On GitHub, the HTML representation is unable to render, please try loading this page with nbviewer.org.</b></div><div class=\"sk-container\" hidden><div class=\"sk-item sk-dashed-wrapped\"><div class=\"sk-label-container\"><div class=\"sk-label fitted sk-toggleable\"><input class=\"sk-toggleable__control sk-hidden--visually\" id=\"sk-estimator-id-1\" type=\"checkbox\" ><label for=\"sk-estimator-id-1\" class=\"sk-toggleable__label fitted sk-toggleable__label-arrow fitted\">&nbsp;&nbsp;MultiOutputClassifier<a class=\"sk-estimator-doc-link fitted\" rel=\"noreferrer\" target=\"_blank\" href=\"https://scikit-learn.org/1.4/modules/generated/sklearn.multioutput.MultiOutputClassifier.html\">?<span>Documentation for MultiOutputClassifier</span></a><span class=\"sk-estimator-doc-link fitted\">i<span>Fitted</span></span></label><div class=\"sk-toggleable__content fitted\"><pre>MultiOutputClassifier(estimator=LogisticRegression())</pre></div> </div></div><div class=\"sk-parallel\"><div class=\"sk-parallel-item\"><div class=\"sk-item\"><div class=\"sk-label-container\"><div class=\"sk-label fitted sk-toggleable\"><input class=\"sk-toggleable__control sk-hidden--visually\" id=\"sk-estimator-id-2\" type=\"checkbox\" ><label for=\"sk-estimator-id-2\" class=\"sk-toggleable__label fitted sk-toggleable__label-arrow fitted\">estimator: LogisticRegression</label><div class=\"sk-toggleable__content fitted\"><pre>LogisticRegression()</pre></div> </div></div><div class=\"sk-serial\"><div class=\"sk-item\"><div class=\"sk-estimator fitted sk-toggleable\"><input class=\"sk-toggleable__control sk-hidden--visually\" id=\"sk-estimator-id-3\" type=\"checkbox\" ><label for=\"sk-estimator-id-3\" class=\"sk-toggleable__label fitted sk-toggleable__label-arrow fitted\">&nbsp;LogisticRegression<a class=\"sk-estimator-doc-link fitted\" rel=\"noreferrer\" target=\"_blank\" href=\"https://scikit-learn.org/1.4/modules/generated/sklearn.linear_model.LogisticRegression.html\">?<span>Documentation for LogisticRegression</span></a></label><div class=\"sk-toggleable__content fitted\"><pre>LogisticRegression()</pre></div> </div></div></div></div></div></div></div></div></div>"
     },
     "execution_count": 25,
     "metadata": {},
     "output_type": "execute_result"
    }
   ],
   "source": [
    "# Train model\n",
    "model = MultiOutputClassifier(LogisticRegression())\n",
    "model.fit(X_train_tfidf, y_train)"
   ],
   "metadata": {
    "collapsed": false,
    "ExecuteTime": {
     "end_time": "2024-06-12T16:50:41.099043Z",
     "start_time": "2024-06-12T16:50:28.958780Z"
    }
   },
   "id": "b08128248997f9a7",
   "execution_count": 25
  },
  {
   "cell_type": "markdown",
   "source": [
    "## Evaluate the Model "
   ],
   "metadata": {
    "collapsed": false
   },
   "id": "a3035c83b92cfdf4"
  },
  {
   "cell_type": "code",
   "outputs": [
    {
     "name": "stdout",
     "output_type": "stream",
     "text": [
      "Accuracy: 0.29\n",
      "                 precision    recall  f1-score   support\n",
      "\n",
      "         Action       0.73      0.33      0.46      1930\n",
      "      Adventure       0.64      0.11      0.18       945\n",
      "      Animation       0.86      0.35      0.50      1216\n",
      "         Comedy       0.72      0.41      0.52      4166\n",
      "          Crime       0.53      0.18      0.27      1116\n",
      "    Documentary       0.86      0.67      0.75      2748\n",
      "          Drama       0.69      0.59      0.64      6464\n",
      "         Family       0.68      0.16      0.26       994\n",
      "        Fantasy       0.56      0.08      0.14       622\n",
      "        Foreign       0.00      0.00      0.00       532\n",
      "        History       0.45      0.05      0.10       375\n",
      "         Horror       0.78      0.44      0.56      1527\n",
      "          Music       0.84      0.52      0.64      1236\n",
      "        Mystery       0.51      0.08      0.14       627\n",
      "        Romance       0.62      0.19      0.30      1851\n",
      "Science Fiction       0.80      0.33      0.46       806\n",
      "       TV Movie       0.00      0.00      0.00       314\n",
      "       Thriller       0.57      0.18      0.27      1774\n",
      "            War       0.65      0.23      0.34       379\n",
      "        Western       0.93      0.49      0.64       410\n",
      "\n",
      "      micro avg       0.73      0.38      0.50     30032\n",
      "      macro avg       0.62      0.27      0.36     30032\n",
      "   weighted avg       0.69      0.38      0.47     30032\n",
      "    samples avg       0.55      0.46      0.48     30032\n"
     ]
    }
   ],
   "source": [
    "y_pred = model.predict(X_test_tfidf)\n",
    "accuracy = accuracy_score(y_test, y_pred)\n",
    "print(f'Accuracy: {accuracy:.2f}')\n",
    "print(classification_report(y_test, y_pred, zero_division=0,  target_names=mlb.classes_))"
   ],
   "metadata": {
    "collapsed": false,
    "ExecuteTime": {
     "end_time": "2024-06-12T16:50:41.153227Z",
     "start_time": "2024-06-12T16:50:41.100163Z"
    }
   },
   "id": "857ace4a2fc586c0",
   "execution_count": 26
  },
  {
   "cell_type": "markdown",
   "source": [
    "## Deploy the Model "
   ],
   "metadata": {
    "collapsed": false
   },
   "id": "29f5d193bdc11faa"
  },
  {
   "cell_type": "code",
   "outputs": [],
   "source": [
    "# Example new movie overviews\n",
    "new_overviews = [\n",
    "    \"A young boy discovers he has magical powers and attends a school for wizards.\",\n",
    "    \"A team of explorers travel through a wormhole in space in an attempt to ensure humanity's survival.\",\n",
    "    \"A group of friends reunite for a wedding, but complications arise when a past romance is rekindled.\",\n",
    "    \"Three partisans bound by a strong friendship return home after the war, but the clash with everyday reality puts a strain on their bond.\",\n",
    "    'An insomniac office worker and a devil-may-care soap maker form an underground fight club that evolves into much more.',\n",
    "    'A year after disposing of the body of a man they accidentally killed, a group of dumb teenagers are stalked by a bumbling serial killer.',\n",
    "    'After a wealthy San Francisco banker is given an opportunity to participate in a mysterious game, his life is turned upside down as he begins to question if it might really be a concealed conspiracy to destroy him.',\n",
    "    'A woman, accidentally caught in a dark deal.',\n",
    "    \"Follow the intergalactic adventures of Capt, Jean-Luc Picard and his loyal crew aboard the all-new USS Enterprise NCC-1701D, as they explore new worlds.\"\n",
    "]\n"
   ],
   "metadata": {
    "collapsed": false,
    "ExecuteTime": {
     "end_time": "2024-06-12T16:50:41.155754Z",
     "start_time": "2024-06-12T16:50:41.153887Z"
    }
   },
   "id": "876b073aea831479",
   "execution_count": 27
  },
  {
   "cell_type": "code",
   "outputs": [],
   "source": [
    "# def predict_genres_from_list(overviews):    \n",
    "# \n",
    "#     processed_overviews = [preprocess_text(overview) for overview in new_overviews]\n",
    "#     \n",
    "#     new_overviews_tfidf = tfidf.transform(processed_overviews)\n",
    "#     \n",
    "#     predicted_genres = model.predict(new_overviews_tfidf)\n",
    "#     \n",
    "#     predicted_genres_readable = mlb.inverse_transform(predicted_genres)\n",
    "#     \n",
    "#     if hasattr(model, 'predict_proba'):\n",
    "#         predicted_probabilities = model.predict_proba(new_overviews_tfidf)\n",
    "#     \n",
    "#         for i, (overview, genres, probabilities) in enumerate(zip(processed_overviews, predicted_genres_readable, predicted_probabilities)):\n",
    "#             if not genres: \n",
    "#                 print(\"No genres\")\n",
    "#                 max_prob_index = probabilities.argmax() \n",
    "#                 genre_with_max_prob = mlb.classes_[max_prob_index]  \n",
    "#                 genres = [genre_with_max_prob]\n",
    "#                 predicted_genres_readable[i] = genres  \n",
    "#             \n",
    "#             print(f\"Overview: {overview}\")\n",
    "#             print(f\"Predicted Genres: {', '.join(genres)}\\n\")\n",
    "#     \n",
    "#     else:\n",
    "# \n",
    "#         for i, (overview, genres) in enumerate(zip(processed_overviews, predicted_genres_readable)):\n",
    "#             if not genres:  \n",
    "#                 max_prob_index = predicted_genres[i].argmax()\n",
    "#                 genre_with_max_prob = mlb.classes_[max_prob_index]\n",
    "#                 genres = [genre_with_max_prob]\n",
    "#                 predicted_genres_readable[i] = genres  \n",
    "#             \n",
    "#             print(f\"Overview: {overview}\")\n",
    "#             print(f\"Predicted Genres: {', '.join(genres)}\\n\")\n"
   ],
   "metadata": {
    "collapsed": false,
    "ExecuteTime": {
     "end_time": "2024-06-12T16:50:41.163826Z",
     "start_time": "2024-06-12T16:50:41.156795Z"
    }
   },
   "id": "bea10a34e9f94c9",
   "execution_count": 28
  },
  {
   "cell_type": "code",
   "outputs": [],
   "source": [
    "def get_genres(my_overview):  \n",
    "    \n",
    "    overviews = []\n",
    "    \n",
    "    overviews.append(my_overview)\n",
    "    \n",
    "    processed_overviews = [preprocess_text(overview) for overview in overviews]\n",
    "    \n",
    "    new_overviews_tfidf = tfidf.transform(processed_overviews)\n",
    "    \n",
    "    predicted_genres = model.predict(new_overviews_tfidf)\n",
    "    \n",
    "    predicted_genres_readable = mlb.inverse_transform(predicted_genres)\n",
    "    \n",
    "    if hasattr(model, 'predict_proba'):\n",
    "        predicted_probabilities = model.predict_proba(new_overviews_tfidf)\n",
    "    \n",
    "        for i, (overview, genres, probabilities) in enumerate(zip(processed_overviews, predicted_genres_readable, predicted_probabilities)):\n",
    "            if not genres: \n",
    "                max_prob_index = probabilities.argmax()  \n",
    "                genre_with_max_prob = mlb.classes_[max_prob_index]  \n",
    "                genres = [genre_with_max_prob]\n",
    "                predicted_genres_readable[i] = genres  \n",
    "            \n",
    "            new_genres = '|'.join(genres)\n",
    "            list_genres = new_genres.split('|')\n",
    "            return list_genres\n",
    "    \n",
    "    else:\n",
    "\n",
    "        for i, (overview, genres) in enumerate(zip(processed_overviews, predicted_genres_readable)):\n",
    "            if not genres:  \n",
    "                max_prob_index = predicted_genres[i].argmax()\n",
    "                genre_with_max_prob = mlb.classes_[max_prob_index]\n",
    "                genres = [genre_with_max_prob]\n",
    "                predicted_genres_readable[i] = genres  \n",
    "            \n",
    "            new_genres = '|'.join(genres)\n",
    "            list_genres = new_genres.split('|')\n",
    "            return list_genres"
   ],
   "metadata": {
    "collapsed": false,
    "ExecuteTime": {
     "end_time": "2024-06-12T16:50:41.169765Z",
     "start_time": "2024-06-12T16:50:41.164640Z"
    }
   },
   "id": "3d7476220d43b61f",
   "execution_count": 29
  },
  {
   "cell_type": "code",
   "outputs": [],
   "source": [
    "df_for_fill = df.copy()"
   ],
   "metadata": {
    "collapsed": false,
    "ExecuteTime": {
     "end_time": "2024-06-12T16:50:41.368843Z",
     "start_time": "2024-06-12T16:50:41.170508Z"
    }
   },
   "id": "b049211761c9ff3f",
   "execution_count": 30
  },
  {
   "cell_type": "code",
   "outputs": [],
   "source": [
    "df_for_fill = df_for_fill.drop_duplicates(subset='overview')\n",
    "df_for_fill = df_for_fill.dropna(subset=['overview'])"
   ],
   "metadata": {
    "collapsed": false,
    "ExecuteTime": {
     "end_time": "2024-06-12T16:50:41.496145Z",
     "start_time": "2024-06-12T16:50:41.369402Z"
    }
   },
   "id": "b3efc4241aa2dc39",
   "execution_count": 31
  },
  {
   "cell_type": "code",
   "outputs": [],
   "source": [
    "df_for_fill = df_for_fill[df_for_fill['overview'] != \" \"]\n",
    "df_for_fill = df_for_fill[df_for_fill['overview'] != \"        \"]\n",
    "df_for_fill = df_for_fill[df_for_fill['overview'] != \"//\"]"
   ],
   "metadata": {
    "collapsed": false,
    "ExecuteTime": {
     "end_time": "2024-06-12T16:50:41.677105Z",
     "start_time": "2024-06-12T16:50:41.500973Z"
    }
   },
   "id": "67cf52eaba0eec43",
   "execution_count": 32
  },
  {
   "cell_type": "code",
   "outputs": [],
   "source": [
    "df_for_fill = df_for_fill.drop(columns=['id', 'tagline', 'spoken_languages', 'imdb_id', 'original_title', 'production_companies_number', 'spoken_languages_number', 'production_countries_number'])"
   ],
   "metadata": {
    "collapsed": false,
    "ExecuteTime": {
     "end_time": "2024-06-12T16:50:41.704406Z",
     "start_time": "2024-06-12T16:50:41.677753Z"
    }
   },
   "id": "a6f2a18e841e2cd9",
   "execution_count": 33
  },
  {
   "cell_type": "code",
   "outputs": [
    {
     "name": "stdout",
     "output_type": "stream",
     "text": [
      "<class 'pandas.core.frame.DataFrame'>\n",
      "Index: 269145 entries, 0 to 329043\n",
      "Data columns (total 14 columns):\n",
      " #   Column                Non-Null Count   Dtype         \n",
      "---  ------                --------------   -----         \n",
      " 0   budget                269145 non-null  int64         \n",
      " 1   genres                173454 non-null  object        \n",
      " 2   original_language     268968 non-null  object        \n",
      " 3   overview              269145 non-null  object        \n",
      " 4   popularity            269145 non-null  float64       \n",
      " 5   production_companies  269145 non-null  object        \n",
      " 6   production_countries  269145 non-null  object        \n",
      " 7   release_date          251637 non-null  datetime64[ns]\n",
      " 8   revenue               269145 non-null  int64         \n",
      " 9   runtime               269145 non-null  float64       \n",
      " 10  status                267814 non-null  object        \n",
      " 11  title                 269145 non-null  object        \n",
      " 12  vote_average          269145 non-null  float64       \n",
      " 13  vote_count            269145 non-null  int64         \n",
      "dtypes: datetime64[ns](1), float64(3), int64(3), object(7)\n",
      "memory usage: 30.8+ MB\n"
     ]
    }
   ],
   "source": [
    "df_for_fill.info()"
   ],
   "metadata": {
    "collapsed": false,
    "ExecuteTime": {
     "end_time": "2024-06-12T16:50:41.758182Z",
     "start_time": "2024-06-12T16:50:41.705100Z"
    }
   },
   "id": "abf27135eb5e50b8",
   "execution_count": 34
  },
  {
   "cell_type": "code",
   "outputs": [
    {
     "data": {
      "text/plain": "budget                      0\ngenres                  95691\noriginal_language         177\noverview                    0\npopularity                  0\nproduction_companies        0\nproduction_countries        0\nrelease_date            17508\nrevenue                     0\nruntime                     0\nstatus                   1331\ntitle                       0\nvote_average                0\nvote_count                  0\ndtype: int64"
     },
     "execution_count": 35,
     "metadata": {},
     "output_type": "execute_result"
    }
   ],
   "source": [
    "df_for_fill.isnull().sum()"
   ],
   "metadata": {
    "collapsed": false,
    "ExecuteTime": {
     "end_time": "2024-06-12T16:50:41.809228Z",
     "start_time": "2024-06-12T16:50:41.758927Z"
    }
   },
   "id": "1bbc22b5999bd3a0",
   "execution_count": 35
  },
  {
   "cell_type": "code",
   "outputs": [
    {
     "data": {
      "text/plain": "         budget                            genres original_language  \\\n0             0                    [Drama, Crime]                fi   \n1             0                   [Drama, Comedy]                fi   \n2       4000000                   [Crime, Comedy]                en   \n3             0         [Action, Thriller, Crime]                en   \n4         42000                     [Documentary]                en   \n...         ...                               ...               ...   \n329037        0                          [Comedy]                en   \n329039        0  [Documentary, History, TV Movie]                en   \n329041        0                   [Drama, Comedy]                en   \n329042        0                   [Drama, Comedy]                en   \n329043        0                           [Drama]                en   \n\n                                                 overview  popularity  \\\n0       Taisto Kasurinen is a Finnish coal miner whose...    0.823904   \n1       An episode in the life of Nikander, a garbage ...    0.474450   \n2       It's Ted the Bellhop's first night on the job....    1.698000   \n3       While racing to a boxing match, Frank, Mike, J...    1.322870   \n4       Timo Novotny labels his new project an experim...    0.054716   \n...                                                   ...         ...   \n329037  Spanked onto this program is the outrageous be...    0.000300   \n329039  The story of Hitler’s final hours told by peop...    0.004500   \n329041  In the modern day pursuit of fame and fortune,...    1.372170   \n329042  Director Levi A. Taylor invites you on a nosta...    0.009600   \n329043  A homeless man is given a second chance at lif...    0.075900   \n\n               production_companies      production_countries release_date  \\\n0       Villealfa Filmproduction Oy                   Finland   1988-10-21   \n1       Villealfa Filmproduction Oy                   Finland   1986-10-16   \n2                     Miramax Films  United States of America   1995-12-25   \n3                Universal Pictures                     Japan   1993-10-15   \n4                           inLoops                   Austria   2006-01-01   \n...                             ...                       ...          ...   \n329037                         none                      none   2003-08-03   \n329039              History Channel  United States of America   2016-01-21   \n329041                         none                  Malaysia   2017-02-08   \n329042                         none  United States of America   2016-10-11   \n329043                         none  United States of America   2017-06-30   \n\n         revenue  runtime    status  \\\n0              0     69.0  Released   \n1              0     76.0  Released   \n2        4300000     98.0  Released   \n3       12136938    110.0  Released   \n4              0     80.0  Released   \n...          ...      ...       ...   \n329037         0     60.0  Released   \n329039         0     46.0  Released   \n329041         0     11.0  Released   \n329042         0     12.0  Released   \n329043         0     90.0  Released   \n\n                                                    title  vote_average  \\\n0                                                   Ariel           7.1   \n1                                     Shadows in Paradise           7.0   \n2                                              Four Rooms           6.5   \n3                                          Judgment Night           6.5   \n4                        Life in Loops (A Megacities RMX)           6.4   \n...                                                   ...           ...   \n329037  The Tom Green Show: Early Exposure - Raw Meat ...           0.0   \n329039                                The Day Hitler Died           7.0   \n329041                                             #idiot           0.0   \n329042                                   Conspiracy P.I.E           0.0   \n329043                                             Chance           0.0   \n\n        vote_count  \n0               40  \n1               32  \n2              485  \n3               69  \n4                4  \n...            ...  \n329037           0  \n329039           1  \n329041           0  \n329042           0  \n329043           0  \n\n[269145 rows x 14 columns]",
      "text/html": "<div>\n<style scoped>\n    .dataframe tbody tr th:only-of-type {\n        vertical-align: middle;\n    }\n\n    .dataframe tbody tr th {\n        vertical-align: top;\n    }\n\n    .dataframe thead th {\n        text-align: right;\n    }\n</style>\n<table border=\"1\" class=\"dataframe\">\n  <thead>\n    <tr style=\"text-align: right;\">\n      <th></th>\n      <th>budget</th>\n      <th>genres</th>\n      <th>original_language</th>\n      <th>overview</th>\n      <th>popularity</th>\n      <th>production_companies</th>\n      <th>production_countries</th>\n      <th>release_date</th>\n      <th>revenue</th>\n      <th>runtime</th>\n      <th>status</th>\n      <th>title</th>\n      <th>vote_average</th>\n      <th>vote_count</th>\n    </tr>\n  </thead>\n  <tbody>\n    <tr>\n      <th>0</th>\n      <td>0</td>\n      <td>[Drama, Crime]</td>\n      <td>fi</td>\n      <td>Taisto Kasurinen is a Finnish coal miner whose...</td>\n      <td>0.823904</td>\n      <td>Villealfa Filmproduction Oy</td>\n      <td>Finland</td>\n      <td>1988-10-21</td>\n      <td>0</td>\n      <td>69.0</td>\n      <td>Released</td>\n      <td>Ariel</td>\n      <td>7.1</td>\n      <td>40</td>\n    </tr>\n    <tr>\n      <th>1</th>\n      <td>0</td>\n      <td>[Drama, Comedy]</td>\n      <td>fi</td>\n      <td>An episode in the life of Nikander, a garbage ...</td>\n      <td>0.474450</td>\n      <td>Villealfa Filmproduction Oy</td>\n      <td>Finland</td>\n      <td>1986-10-16</td>\n      <td>0</td>\n      <td>76.0</td>\n      <td>Released</td>\n      <td>Shadows in Paradise</td>\n      <td>7.0</td>\n      <td>32</td>\n    </tr>\n    <tr>\n      <th>2</th>\n      <td>4000000</td>\n      <td>[Crime, Comedy]</td>\n      <td>en</td>\n      <td>It's Ted the Bellhop's first night on the job....</td>\n      <td>1.698000</td>\n      <td>Miramax Films</td>\n      <td>United States of America</td>\n      <td>1995-12-25</td>\n      <td>4300000</td>\n      <td>98.0</td>\n      <td>Released</td>\n      <td>Four Rooms</td>\n      <td>6.5</td>\n      <td>485</td>\n    </tr>\n    <tr>\n      <th>3</th>\n      <td>0</td>\n      <td>[Action, Thriller, Crime]</td>\n      <td>en</td>\n      <td>While racing to a boxing match, Frank, Mike, J...</td>\n      <td>1.322870</td>\n      <td>Universal Pictures</td>\n      <td>Japan</td>\n      <td>1993-10-15</td>\n      <td>12136938</td>\n      <td>110.0</td>\n      <td>Released</td>\n      <td>Judgment Night</td>\n      <td>6.5</td>\n      <td>69</td>\n    </tr>\n    <tr>\n      <th>4</th>\n      <td>42000</td>\n      <td>[Documentary]</td>\n      <td>en</td>\n      <td>Timo Novotny labels his new project an experim...</td>\n      <td>0.054716</td>\n      <td>inLoops</td>\n      <td>Austria</td>\n      <td>2006-01-01</td>\n      <td>0</td>\n      <td>80.0</td>\n      <td>Released</td>\n      <td>Life in Loops (A Megacities RMX)</td>\n      <td>6.4</td>\n      <td>4</td>\n    </tr>\n    <tr>\n      <th>...</th>\n      <td>...</td>\n      <td>...</td>\n      <td>...</td>\n      <td>...</td>\n      <td>...</td>\n      <td>...</td>\n      <td>...</td>\n      <td>...</td>\n      <td>...</td>\n      <td>...</td>\n      <td>...</td>\n      <td>...</td>\n      <td>...</td>\n      <td>...</td>\n    </tr>\n    <tr>\n      <th>329037</th>\n      <td>0</td>\n      <td>[Comedy]</td>\n      <td>en</td>\n      <td>Spanked onto this program is the outrageous be...</td>\n      <td>0.000300</td>\n      <td>none</td>\n      <td>none</td>\n      <td>2003-08-03</td>\n      <td>0</td>\n      <td>60.0</td>\n      <td>Released</td>\n      <td>The Tom Green Show: Early Exposure - Raw Meat ...</td>\n      <td>0.0</td>\n      <td>0</td>\n    </tr>\n    <tr>\n      <th>329039</th>\n      <td>0</td>\n      <td>[Documentary, History, TV Movie]</td>\n      <td>en</td>\n      <td>The story of Hitler’s final hours told by peop...</td>\n      <td>0.004500</td>\n      <td>History Channel</td>\n      <td>United States of America</td>\n      <td>2016-01-21</td>\n      <td>0</td>\n      <td>46.0</td>\n      <td>Released</td>\n      <td>The Day Hitler Died</td>\n      <td>7.0</td>\n      <td>1</td>\n    </tr>\n    <tr>\n      <th>329041</th>\n      <td>0</td>\n      <td>[Drama, Comedy]</td>\n      <td>en</td>\n      <td>In the modern day pursuit of fame and fortune,...</td>\n      <td>1.372170</td>\n      <td>none</td>\n      <td>Malaysia</td>\n      <td>2017-02-08</td>\n      <td>0</td>\n      <td>11.0</td>\n      <td>Released</td>\n      <td>#idiot</td>\n      <td>0.0</td>\n      <td>0</td>\n    </tr>\n    <tr>\n      <th>329042</th>\n      <td>0</td>\n      <td>[Drama, Comedy]</td>\n      <td>en</td>\n      <td>Director Levi A. Taylor invites you on a nosta...</td>\n      <td>0.009600</td>\n      <td>none</td>\n      <td>United States of America</td>\n      <td>2016-10-11</td>\n      <td>0</td>\n      <td>12.0</td>\n      <td>Released</td>\n      <td>Conspiracy P.I.E</td>\n      <td>0.0</td>\n      <td>0</td>\n    </tr>\n    <tr>\n      <th>329043</th>\n      <td>0</td>\n      <td>[Drama]</td>\n      <td>en</td>\n      <td>A homeless man is given a second chance at lif...</td>\n      <td>0.075900</td>\n      <td>none</td>\n      <td>United States of America</td>\n      <td>2017-06-30</td>\n      <td>0</td>\n      <td>90.0</td>\n      <td>Released</td>\n      <td>Chance</td>\n      <td>0.0</td>\n      <td>0</td>\n    </tr>\n  </tbody>\n</table>\n<p>269145 rows × 14 columns</p>\n</div>"
     },
     "execution_count": 36,
     "metadata": {},
     "output_type": "execute_result"
    }
   ],
   "source": [
    "df_for_fill"
   ],
   "metadata": {
    "collapsed": false,
    "ExecuteTime": {
     "end_time": "2024-06-12T16:50:41.817340Z",
     "start_time": "2024-06-12T16:50:41.809875Z"
    }
   },
   "id": "c3b863c0594cc9aa",
   "execution_count": 36
  },
  {
   "cell_type": "markdown",
   "source": [
    "## Use the Model to Fill Missing Values in Genres"
   ],
   "metadata": {
    "collapsed": false
   },
   "id": "80480c13cd92c8bc"
  },
  {
   "cell_type": "code",
   "outputs": [],
   "source": [
    "df_for_fill['genres'] = df_for_fill['genres'].fillna('')\n",
    "\n",
    "df_for_fill['genres'] = df_for_fill.apply(lambda row: get_genres(row['overview']) if not row['genres'] else row['genres'], axis=1)\n"
   ],
   "metadata": {
    "collapsed": false,
    "ExecuteTime": {
     "end_time": "2024-06-12T16:52:54.832352Z",
     "start_time": "2024-06-12T16:50:41.818063Z"
    }
   },
   "id": "7cc62b7596a17bae",
   "execution_count": 37
  },
  {
   "cell_type": "code",
   "outputs": [
    {
     "data": {
      "text/plain": "budget                      0\ngenres                      0\noriginal_language         177\noverview                    0\npopularity                  0\nproduction_companies        0\nproduction_countries        0\nrelease_date            17508\nrevenue                     0\nruntime                     0\nstatus                   1331\ntitle                       0\nvote_average                0\nvote_count                  0\ndtype: int64"
     },
     "execution_count": 38,
     "metadata": {},
     "output_type": "execute_result"
    }
   ],
   "source": [
    "df_for_fill.isnull().sum()"
   ],
   "metadata": {
    "collapsed": false,
    "ExecuteTime": {
     "end_time": "2024-06-12T16:52:54.894283Z",
     "start_time": "2024-06-12T16:52:54.833728Z"
    }
   },
   "id": "b7264c5427aa2ad1",
   "execution_count": 38
  },
  {
   "cell_type": "code",
   "outputs": [
    {
     "data": {
      "text/plain": "         budget                            genres original_language  \\\n0             0                    [Drama, Crime]                fi   \n1             0                   [Drama, Comedy]                fi   \n2       4000000                   [Crime, Comedy]                en   \n3             0         [Action, Thriller, Crime]                en   \n4         42000                     [Documentary]                en   \n...         ...                               ...               ...   \n329037        0                          [Comedy]                en   \n329039        0  [Documentary, History, TV Movie]                en   \n329041        0                   [Drama, Comedy]                en   \n329042        0                   [Drama, Comedy]                en   \n329043        0                           [Drama]                en   \n\n                                                 overview  popularity  \\\n0       Taisto Kasurinen is a Finnish coal miner whose...    0.823904   \n1       An episode in the life of Nikander, a garbage ...    0.474450   \n2       It's Ted the Bellhop's first night on the job....    1.698000   \n3       While racing to a boxing match, Frank, Mike, J...    1.322870   \n4       Timo Novotny labels his new project an experim...    0.054716   \n...                                                   ...         ...   \n329037  Spanked onto this program is the outrageous be...    0.000300   \n329039  The story of Hitler’s final hours told by peop...    0.004500   \n329041  In the modern day pursuit of fame and fortune,...    1.372170   \n329042  Director Levi A. Taylor invites you on a nosta...    0.009600   \n329043  A homeless man is given a second chance at lif...    0.075900   \n\n               production_companies      production_countries release_date  \\\n0       Villealfa Filmproduction Oy                   Finland   1988-10-21   \n1       Villealfa Filmproduction Oy                   Finland   1986-10-16   \n2                     Miramax Films  United States of America   1995-12-25   \n3                Universal Pictures                     Japan   1993-10-15   \n4                           inLoops                   Austria   2006-01-01   \n...                             ...                       ...          ...   \n329037                         none                      none   2003-08-03   \n329039              History Channel  United States of America   2016-01-21   \n329041                         none                  Malaysia   2017-02-08   \n329042                         none  United States of America   2016-10-11   \n329043                         none  United States of America   2017-06-30   \n\n         revenue  runtime    status  \\\n0              0     69.0  Released   \n1              0     76.0  Released   \n2        4300000     98.0  Released   \n3       12136938    110.0  Released   \n4              0     80.0  Released   \n...          ...      ...       ...   \n329037         0     60.0  Released   \n329039         0     46.0  Released   \n329041         0     11.0  Released   \n329042         0     12.0  Released   \n329043         0     90.0  Released   \n\n                                                    title  vote_average  \\\n0                                                   Ariel           7.1   \n1                                     Shadows in Paradise           7.0   \n2                                              Four Rooms           6.5   \n3                                          Judgment Night           6.5   \n4                        Life in Loops (A Megacities RMX)           6.4   \n...                                                   ...           ...   \n329037  The Tom Green Show: Early Exposure - Raw Meat ...           0.0   \n329039                                The Day Hitler Died           7.0   \n329041                                             #idiot           0.0   \n329042                                   Conspiracy P.I.E           0.0   \n329043                                             Chance           0.0   \n\n        vote_count  \n0               40  \n1               32  \n2              485  \n3               69  \n4                4  \n...            ...  \n329037           0  \n329039           1  \n329041           0  \n329042           0  \n329043           0  \n\n[269145 rows x 14 columns]",
      "text/html": "<div>\n<style scoped>\n    .dataframe tbody tr th:only-of-type {\n        vertical-align: middle;\n    }\n\n    .dataframe tbody tr th {\n        vertical-align: top;\n    }\n\n    .dataframe thead th {\n        text-align: right;\n    }\n</style>\n<table border=\"1\" class=\"dataframe\">\n  <thead>\n    <tr style=\"text-align: right;\">\n      <th></th>\n      <th>budget</th>\n      <th>genres</th>\n      <th>original_language</th>\n      <th>overview</th>\n      <th>popularity</th>\n      <th>production_companies</th>\n      <th>production_countries</th>\n      <th>release_date</th>\n      <th>revenue</th>\n      <th>runtime</th>\n      <th>status</th>\n      <th>title</th>\n      <th>vote_average</th>\n      <th>vote_count</th>\n    </tr>\n  </thead>\n  <tbody>\n    <tr>\n      <th>0</th>\n      <td>0</td>\n      <td>[Drama, Crime]</td>\n      <td>fi</td>\n      <td>Taisto Kasurinen is a Finnish coal miner whose...</td>\n      <td>0.823904</td>\n      <td>Villealfa Filmproduction Oy</td>\n      <td>Finland</td>\n      <td>1988-10-21</td>\n      <td>0</td>\n      <td>69.0</td>\n      <td>Released</td>\n      <td>Ariel</td>\n      <td>7.1</td>\n      <td>40</td>\n    </tr>\n    <tr>\n      <th>1</th>\n      <td>0</td>\n      <td>[Drama, Comedy]</td>\n      <td>fi</td>\n      <td>An episode in the life of Nikander, a garbage ...</td>\n      <td>0.474450</td>\n      <td>Villealfa Filmproduction Oy</td>\n      <td>Finland</td>\n      <td>1986-10-16</td>\n      <td>0</td>\n      <td>76.0</td>\n      <td>Released</td>\n      <td>Shadows in Paradise</td>\n      <td>7.0</td>\n      <td>32</td>\n    </tr>\n    <tr>\n      <th>2</th>\n      <td>4000000</td>\n      <td>[Crime, Comedy]</td>\n      <td>en</td>\n      <td>It's Ted the Bellhop's first night on the job....</td>\n      <td>1.698000</td>\n      <td>Miramax Films</td>\n      <td>United States of America</td>\n      <td>1995-12-25</td>\n      <td>4300000</td>\n      <td>98.0</td>\n      <td>Released</td>\n      <td>Four Rooms</td>\n      <td>6.5</td>\n      <td>485</td>\n    </tr>\n    <tr>\n      <th>3</th>\n      <td>0</td>\n      <td>[Action, Thriller, Crime]</td>\n      <td>en</td>\n      <td>While racing to a boxing match, Frank, Mike, J...</td>\n      <td>1.322870</td>\n      <td>Universal Pictures</td>\n      <td>Japan</td>\n      <td>1993-10-15</td>\n      <td>12136938</td>\n      <td>110.0</td>\n      <td>Released</td>\n      <td>Judgment Night</td>\n      <td>6.5</td>\n      <td>69</td>\n    </tr>\n    <tr>\n      <th>4</th>\n      <td>42000</td>\n      <td>[Documentary]</td>\n      <td>en</td>\n      <td>Timo Novotny labels his new project an experim...</td>\n      <td>0.054716</td>\n      <td>inLoops</td>\n      <td>Austria</td>\n      <td>2006-01-01</td>\n      <td>0</td>\n      <td>80.0</td>\n      <td>Released</td>\n      <td>Life in Loops (A Megacities RMX)</td>\n      <td>6.4</td>\n      <td>4</td>\n    </tr>\n    <tr>\n      <th>...</th>\n      <td>...</td>\n      <td>...</td>\n      <td>...</td>\n      <td>...</td>\n      <td>...</td>\n      <td>...</td>\n      <td>...</td>\n      <td>...</td>\n      <td>...</td>\n      <td>...</td>\n      <td>...</td>\n      <td>...</td>\n      <td>...</td>\n      <td>...</td>\n    </tr>\n    <tr>\n      <th>329037</th>\n      <td>0</td>\n      <td>[Comedy]</td>\n      <td>en</td>\n      <td>Spanked onto this program is the outrageous be...</td>\n      <td>0.000300</td>\n      <td>none</td>\n      <td>none</td>\n      <td>2003-08-03</td>\n      <td>0</td>\n      <td>60.0</td>\n      <td>Released</td>\n      <td>The Tom Green Show: Early Exposure - Raw Meat ...</td>\n      <td>0.0</td>\n      <td>0</td>\n    </tr>\n    <tr>\n      <th>329039</th>\n      <td>0</td>\n      <td>[Documentary, History, TV Movie]</td>\n      <td>en</td>\n      <td>The story of Hitler’s final hours told by peop...</td>\n      <td>0.004500</td>\n      <td>History Channel</td>\n      <td>United States of America</td>\n      <td>2016-01-21</td>\n      <td>0</td>\n      <td>46.0</td>\n      <td>Released</td>\n      <td>The Day Hitler Died</td>\n      <td>7.0</td>\n      <td>1</td>\n    </tr>\n    <tr>\n      <th>329041</th>\n      <td>0</td>\n      <td>[Drama, Comedy]</td>\n      <td>en</td>\n      <td>In the modern day pursuit of fame and fortune,...</td>\n      <td>1.372170</td>\n      <td>none</td>\n      <td>Malaysia</td>\n      <td>2017-02-08</td>\n      <td>0</td>\n      <td>11.0</td>\n      <td>Released</td>\n      <td>#idiot</td>\n      <td>0.0</td>\n      <td>0</td>\n    </tr>\n    <tr>\n      <th>329042</th>\n      <td>0</td>\n      <td>[Drama, Comedy]</td>\n      <td>en</td>\n      <td>Director Levi A. Taylor invites you on a nosta...</td>\n      <td>0.009600</td>\n      <td>none</td>\n      <td>United States of America</td>\n      <td>2016-10-11</td>\n      <td>0</td>\n      <td>12.0</td>\n      <td>Released</td>\n      <td>Conspiracy P.I.E</td>\n      <td>0.0</td>\n      <td>0</td>\n    </tr>\n    <tr>\n      <th>329043</th>\n      <td>0</td>\n      <td>[Drama]</td>\n      <td>en</td>\n      <td>A homeless man is given a second chance at lif...</td>\n      <td>0.075900</td>\n      <td>none</td>\n      <td>United States of America</td>\n      <td>2017-06-30</td>\n      <td>0</td>\n      <td>90.0</td>\n      <td>Released</td>\n      <td>Chance</td>\n      <td>0.0</td>\n      <td>0</td>\n    </tr>\n  </tbody>\n</table>\n<p>269145 rows × 14 columns</p>\n</div>"
     },
     "execution_count": 39,
     "metadata": {},
     "output_type": "execute_result"
    }
   ],
   "source": [
    "df_for_fill"
   ],
   "metadata": {
    "collapsed": false,
    "ExecuteTime": {
     "end_time": "2024-06-12T16:52:54.911593Z",
     "start_time": "2024-06-12T16:52:54.895525Z"
    }
   },
   "id": "2faa93cf1a6dafe",
   "execution_count": 39
  },
  {
   "cell_type": "code",
   "outputs": [],
   "source": [
    "copy_df = df_for_fill.copy()"
   ],
   "metadata": {
    "collapsed": false,
    "ExecuteTime": {
     "end_time": "2024-06-12T16:52:54.969494Z",
     "start_time": "2024-06-12T16:52:54.913397Z"
    }
   },
   "id": "8992d9f290bf36a6",
   "execution_count": 40
  },
  {
   "cell_type": "code",
   "outputs": [],
   "source": [
    "genres_df = copy_df['genres'].explode().reset_index()\n",
    "genres_df = pd.get_dummies(genres_df['genres']).groupby(genres_df['index']).sum()\n",
    "copy_df = copy_df.join(genres_df)"
   ],
   "metadata": {
    "collapsed": false,
    "ExecuteTime": {
     "end_time": "2024-06-12T16:52:55.314171Z",
     "start_time": "2024-06-12T16:52:54.970122Z"
    }
   },
   "id": "bcafff80c00db721",
   "execution_count": 41
  },
  {
   "cell_type": "code",
   "outputs": [
    {
     "data": {
      "text/plain": "         budget                            genres original_language  \\\n0             0                    [Drama, Crime]                fi   \n1             0                   [Drama, Comedy]                fi   \n2       4000000                   [Crime, Comedy]                en   \n3             0         [Action, Thriller, Crime]                en   \n4         42000                     [Documentary]                en   \n...         ...                               ...               ...   \n329037        0                          [Comedy]                en   \n329039        0  [Documentary, History, TV Movie]                en   \n329041        0                   [Drama, Comedy]                en   \n329042        0                   [Drama, Comedy]                en   \n329043        0                           [Drama]                en   \n\n                                                 overview  popularity  \\\n0       Taisto Kasurinen is a Finnish coal miner whose...    0.823904   \n1       An episode in the life of Nikander, a garbage ...    0.474450   \n2       It's Ted the Bellhop's first night on the job....    1.698000   \n3       While racing to a boxing match, Frank, Mike, J...    1.322870   \n4       Timo Novotny labels his new project an experim...    0.054716   \n...                                                   ...         ...   \n329037  Spanked onto this program is the outrageous be...    0.000300   \n329039  The story of Hitler’s final hours told by peop...    0.004500   \n329041  In the modern day pursuit of fame and fortune,...    1.372170   \n329042  Director Levi A. Taylor invites you on a nosta...    0.009600   \n329043  A homeless man is given a second chance at lif...    0.075900   \n\n               production_companies      production_countries release_date  \\\n0       Villealfa Filmproduction Oy                   Finland   1988-10-21   \n1       Villealfa Filmproduction Oy                   Finland   1986-10-16   \n2                     Miramax Films  United States of America   1995-12-25   \n3                Universal Pictures                     Japan   1993-10-15   \n4                           inLoops                   Austria   2006-01-01   \n...                             ...                       ...          ...   \n329037                         none                      none   2003-08-03   \n329039              History Channel  United States of America   2016-01-21   \n329041                         none                  Malaysia   2017-02-08   \n329042                         none  United States of America   2016-10-11   \n329043                         none  United States of America   2017-06-30   \n\n         revenue  runtime  ... History Horror  Music  Mystery  Romance  \\\n0              0     69.0  ...       0      0      0        0        0   \n1              0     76.0  ...       0      0      0        0        0   \n2        4300000     98.0  ...       0      0      0        0        0   \n3       12136938    110.0  ...       0      0      0        0        0   \n4              0     80.0  ...       0      0      0        0        0   \n...          ...      ...  ...     ...    ...    ...      ...      ...   \n329037         0     60.0  ...       0      0      0        0        0   \n329039         0     46.0  ...       1      0      0        0        0   \n329041         0     11.0  ...       0      0      0        0        0   \n329042         0     12.0  ...       0      0      0        0        0   \n329043         0     90.0  ...       0      0      0        0        0   \n\n        Science Fiction  TV Movie  Thriller  War  Western  \n0                     0         0         0    0        0  \n1                     0         0         0    0        0  \n2                     0         0         0    0        0  \n3                     0         0         1    0        0  \n4                     0         0         0    0        0  \n...                 ...       ...       ...  ...      ...  \n329037                0         0         0    0        0  \n329039                0         1         0    0        0  \n329041                0         0         0    0        0  \n329042                0         0         0    0        0  \n329043                0         0         0    0        0  \n\n[269145 rows x 34 columns]",
      "text/html": "<div>\n<style scoped>\n    .dataframe tbody tr th:only-of-type {\n        vertical-align: middle;\n    }\n\n    .dataframe tbody tr th {\n        vertical-align: top;\n    }\n\n    .dataframe thead th {\n        text-align: right;\n    }\n</style>\n<table border=\"1\" class=\"dataframe\">\n  <thead>\n    <tr style=\"text-align: right;\">\n      <th></th>\n      <th>budget</th>\n      <th>genres</th>\n      <th>original_language</th>\n      <th>overview</th>\n      <th>popularity</th>\n      <th>production_companies</th>\n      <th>production_countries</th>\n      <th>release_date</th>\n      <th>revenue</th>\n      <th>runtime</th>\n      <th>...</th>\n      <th>History</th>\n      <th>Horror</th>\n      <th>Music</th>\n      <th>Mystery</th>\n      <th>Romance</th>\n      <th>Science Fiction</th>\n      <th>TV Movie</th>\n      <th>Thriller</th>\n      <th>War</th>\n      <th>Western</th>\n    </tr>\n  </thead>\n  <tbody>\n    <tr>\n      <th>0</th>\n      <td>0</td>\n      <td>[Drama, Crime]</td>\n      <td>fi</td>\n      <td>Taisto Kasurinen is a Finnish coal miner whose...</td>\n      <td>0.823904</td>\n      <td>Villealfa Filmproduction Oy</td>\n      <td>Finland</td>\n      <td>1988-10-21</td>\n      <td>0</td>\n      <td>69.0</td>\n      <td>...</td>\n      <td>0</td>\n      <td>0</td>\n      <td>0</td>\n      <td>0</td>\n      <td>0</td>\n      <td>0</td>\n      <td>0</td>\n      <td>0</td>\n      <td>0</td>\n      <td>0</td>\n    </tr>\n    <tr>\n      <th>1</th>\n      <td>0</td>\n      <td>[Drama, Comedy]</td>\n      <td>fi</td>\n      <td>An episode in the life of Nikander, a garbage ...</td>\n      <td>0.474450</td>\n      <td>Villealfa Filmproduction Oy</td>\n      <td>Finland</td>\n      <td>1986-10-16</td>\n      <td>0</td>\n      <td>76.0</td>\n      <td>...</td>\n      <td>0</td>\n      <td>0</td>\n      <td>0</td>\n      <td>0</td>\n      <td>0</td>\n      <td>0</td>\n      <td>0</td>\n      <td>0</td>\n      <td>0</td>\n      <td>0</td>\n    </tr>\n    <tr>\n      <th>2</th>\n      <td>4000000</td>\n      <td>[Crime, Comedy]</td>\n      <td>en</td>\n      <td>It's Ted the Bellhop's first night on the job....</td>\n      <td>1.698000</td>\n      <td>Miramax Films</td>\n      <td>United States of America</td>\n      <td>1995-12-25</td>\n      <td>4300000</td>\n      <td>98.0</td>\n      <td>...</td>\n      <td>0</td>\n      <td>0</td>\n      <td>0</td>\n      <td>0</td>\n      <td>0</td>\n      <td>0</td>\n      <td>0</td>\n      <td>0</td>\n      <td>0</td>\n      <td>0</td>\n    </tr>\n    <tr>\n      <th>3</th>\n      <td>0</td>\n      <td>[Action, Thriller, Crime]</td>\n      <td>en</td>\n      <td>While racing to a boxing match, Frank, Mike, J...</td>\n      <td>1.322870</td>\n      <td>Universal Pictures</td>\n      <td>Japan</td>\n      <td>1993-10-15</td>\n      <td>12136938</td>\n      <td>110.0</td>\n      <td>...</td>\n      <td>0</td>\n      <td>0</td>\n      <td>0</td>\n      <td>0</td>\n      <td>0</td>\n      <td>0</td>\n      <td>0</td>\n      <td>1</td>\n      <td>0</td>\n      <td>0</td>\n    </tr>\n    <tr>\n      <th>4</th>\n      <td>42000</td>\n      <td>[Documentary]</td>\n      <td>en</td>\n      <td>Timo Novotny labels his new project an experim...</td>\n      <td>0.054716</td>\n      <td>inLoops</td>\n      <td>Austria</td>\n      <td>2006-01-01</td>\n      <td>0</td>\n      <td>80.0</td>\n      <td>...</td>\n      <td>0</td>\n      <td>0</td>\n      <td>0</td>\n      <td>0</td>\n      <td>0</td>\n      <td>0</td>\n      <td>0</td>\n      <td>0</td>\n      <td>0</td>\n      <td>0</td>\n    </tr>\n    <tr>\n      <th>...</th>\n      <td>...</td>\n      <td>...</td>\n      <td>...</td>\n      <td>...</td>\n      <td>...</td>\n      <td>...</td>\n      <td>...</td>\n      <td>...</td>\n      <td>...</td>\n      <td>...</td>\n      <td>...</td>\n      <td>...</td>\n      <td>...</td>\n      <td>...</td>\n      <td>...</td>\n      <td>...</td>\n      <td>...</td>\n      <td>...</td>\n      <td>...</td>\n      <td>...</td>\n      <td>...</td>\n    </tr>\n    <tr>\n      <th>329037</th>\n      <td>0</td>\n      <td>[Comedy]</td>\n      <td>en</td>\n      <td>Spanked onto this program is the outrageous be...</td>\n      <td>0.000300</td>\n      <td>none</td>\n      <td>none</td>\n      <td>2003-08-03</td>\n      <td>0</td>\n      <td>60.0</td>\n      <td>...</td>\n      <td>0</td>\n      <td>0</td>\n      <td>0</td>\n      <td>0</td>\n      <td>0</td>\n      <td>0</td>\n      <td>0</td>\n      <td>0</td>\n      <td>0</td>\n      <td>0</td>\n    </tr>\n    <tr>\n      <th>329039</th>\n      <td>0</td>\n      <td>[Documentary, History, TV Movie]</td>\n      <td>en</td>\n      <td>The story of Hitler’s final hours told by peop...</td>\n      <td>0.004500</td>\n      <td>History Channel</td>\n      <td>United States of America</td>\n      <td>2016-01-21</td>\n      <td>0</td>\n      <td>46.0</td>\n      <td>...</td>\n      <td>1</td>\n      <td>0</td>\n      <td>0</td>\n      <td>0</td>\n      <td>0</td>\n      <td>0</td>\n      <td>1</td>\n      <td>0</td>\n      <td>0</td>\n      <td>0</td>\n    </tr>\n    <tr>\n      <th>329041</th>\n      <td>0</td>\n      <td>[Drama, Comedy]</td>\n      <td>en</td>\n      <td>In the modern day pursuit of fame and fortune,...</td>\n      <td>1.372170</td>\n      <td>none</td>\n      <td>Malaysia</td>\n      <td>2017-02-08</td>\n      <td>0</td>\n      <td>11.0</td>\n      <td>...</td>\n      <td>0</td>\n      <td>0</td>\n      <td>0</td>\n      <td>0</td>\n      <td>0</td>\n      <td>0</td>\n      <td>0</td>\n      <td>0</td>\n      <td>0</td>\n      <td>0</td>\n    </tr>\n    <tr>\n      <th>329042</th>\n      <td>0</td>\n      <td>[Drama, Comedy]</td>\n      <td>en</td>\n      <td>Director Levi A. Taylor invites you on a nosta...</td>\n      <td>0.009600</td>\n      <td>none</td>\n      <td>United States of America</td>\n      <td>2016-10-11</td>\n      <td>0</td>\n      <td>12.0</td>\n      <td>...</td>\n      <td>0</td>\n      <td>0</td>\n      <td>0</td>\n      <td>0</td>\n      <td>0</td>\n      <td>0</td>\n      <td>0</td>\n      <td>0</td>\n      <td>0</td>\n      <td>0</td>\n    </tr>\n    <tr>\n      <th>329043</th>\n      <td>0</td>\n      <td>[Drama]</td>\n      <td>en</td>\n      <td>A homeless man is given a second chance at lif...</td>\n      <td>0.075900</td>\n      <td>none</td>\n      <td>United States of America</td>\n      <td>2017-06-30</td>\n      <td>0</td>\n      <td>90.0</td>\n      <td>...</td>\n      <td>0</td>\n      <td>0</td>\n      <td>0</td>\n      <td>0</td>\n      <td>0</td>\n      <td>0</td>\n      <td>0</td>\n      <td>0</td>\n      <td>0</td>\n      <td>0</td>\n    </tr>\n  </tbody>\n</table>\n<p>269145 rows × 34 columns</p>\n</div>"
     },
     "execution_count": 42,
     "metadata": {},
     "output_type": "execute_result"
    }
   ],
   "source": [
    "copy_df"
   ],
   "metadata": {
    "collapsed": false,
    "ExecuteTime": {
     "end_time": "2024-06-12T16:52:55.414386Z",
     "start_time": "2024-06-12T16:52:55.316214Z"
    }
   },
   "id": "ff09caf1ee8af6b7",
   "execution_count": 42
  },
  {
   "cell_type": "code",
   "outputs": [],
   "source": [
    "copy_df.to_csv('MovieGenresDummies.csv')"
   ],
   "metadata": {
    "collapsed": false,
    "ExecuteTime": {
     "end_time": "2024-06-12T16:52:58.808596Z",
     "start_time": "2024-06-12T16:52:55.415807Z"
    }
   },
   "id": "e631d438262db8ce",
   "execution_count": 43
  }
 ],
 "metadata": {
  "kernelspec": {
   "display_name": "Python 3",
   "language": "python",
   "name": "python3"
  },
  "language_info": {
   "codemirror_mode": {
    "name": "ipython",
    "version": 2
   },
   "file_extension": ".py",
   "mimetype": "text/x-python",
   "name": "python",
   "nbconvert_exporter": "python",
   "pygments_lexer": "ipython2",
   "version": "2.7.6"
  }
 },
 "nbformat": 4,
 "nbformat_minor": 5
}
